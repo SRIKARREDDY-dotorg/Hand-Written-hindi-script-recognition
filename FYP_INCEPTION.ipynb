{
  "nbformat": 4,
  "nbformat_minor": 0,
  "metadata": {
    "accelerator": "GPU",
    "colab": {
      "name": "FYP_INCEPTION.ipynb",
      "provenance": [],
      "collapsed_sections": [],
      "include_colab_link": true
    },
    "kernelspec": {
      "display_name": "Python 3",
      "name": "python3"
    }
  },
  "cells": [
    {
      "cell_type": "markdown",
      "metadata": {
        "id": "view-in-github",
        "colab_type": "text"
      },
      "source": [
        "<a href=\"https://colab.research.google.com/github/SRIKARREDDY-dotorg/Hand-Written-hindi-script-recognition/blob/master/FYP_INCEPTION.ipynb\" target=\"_parent\"><img src=\"https://colab.research.google.com/assets/colab-badge.svg\" alt=\"Open In Colab\"/></a>"
      ]
    },
    {
      "cell_type": "code",
      "metadata": {
        "id": "_QKUffPu5EZA"
      },
      "source": [
        "import tensorflow as tf\n",
        "import pandas as pd\n",
        "from tensorflow.keras.preprocessing.image import ImageDataGenerator"
      ],
      "execution_count": null,
      "outputs": []
    },
    {
      "cell_type": "code",
      "metadata": {
        "colab": {
          "base_uri": "https://localhost:8080/"
        },
        "id": "PTLSy2BD5Sm5",
        "outputId": "afa933a6-1c28-462f-f264-eba2d8bb94d4"
      },
      "source": [
        "from google.colab import drive\n",
        "drive.mount('/content/drive')"
      ],
      "execution_count": null,
      "outputs": [
        {
          "output_type": "stream",
          "text": [
            "Drive already mounted at /content/drive; to attempt to forcibly remount, call drive.mount(\"/content/drive\", force_remount=True).\n"
          ],
          "name": "stdout"
        }
      ]
    },
    {
      "cell_type": "code",
      "metadata": {
        "colab": {
          "base_uri": "https://localhost:8080/"
        },
        "id": "AGlrpJMfqqun",
        "outputId": "84d59714-5c4c-48fa-e741-a785c485867c"
      },
      "source": [
        "!pip install kaggle"
      ],
      "execution_count": null,
      "outputs": [
        {
          "output_type": "stream",
          "text": [
            "Requirement already satisfied: kaggle in /usr/local/lib/python3.7/dist-packages (1.5.10)\n",
            "Requirement already satisfied: python-dateutil in /usr/local/lib/python3.7/dist-packages (from kaggle) (2.8.1)\n",
            "Requirement already satisfied: six>=1.10 in /usr/local/lib/python3.7/dist-packages (from kaggle) (1.15.0)\n",
            "Requirement already satisfied: certifi in /usr/local/lib/python3.7/dist-packages (from kaggle) (2020.12.5)\n",
            "Requirement already satisfied: python-slugify in /usr/local/lib/python3.7/dist-packages (from kaggle) (4.0.1)\n",
            "Requirement already satisfied: tqdm in /usr/local/lib/python3.7/dist-packages (from kaggle) (4.41.1)\n",
            "Requirement already satisfied: requests in /usr/local/lib/python3.7/dist-packages (from kaggle) (2.23.0)\n",
            "Requirement already satisfied: urllib3 in /usr/local/lib/python3.7/dist-packages (from kaggle) (1.24.3)\n",
            "Requirement already satisfied: text-unidecode>=1.3 in /usr/local/lib/python3.7/dist-packages (from python-slugify->kaggle) (1.3)\n",
            "Requirement already satisfied: chardet<4,>=3.0.2 in /usr/local/lib/python3.7/dist-packages (from requests->kaggle) (3.0.4)\n",
            "Requirement already satisfied: idna<3,>=2.5 in /usr/local/lib/python3.7/dist-packages (from requests->kaggle) (2.10)\n"
          ],
          "name": "stdout"
        }
      ]
    },
    {
      "cell_type": "code",
      "metadata": {
        "id": "l5EKhvH7q3tj"
      },
      "source": [
        "import os\n",
        "os.environ['KAGGLE_CONFIG_DIR'] = \"/content/drive/MyDrive\""
      ],
      "execution_count": null,
      "outputs": []
    },
    {
      "cell_type": "code",
      "metadata": {
        "colab": {
          "base_uri": "https://localhost:8080/"
        },
        "id": "-Uok7-HcCcPG",
        "outputId": "215f8a78-718b-4992-d955-d3ee9fd006e7"
      },
      "source": [
        "%cd /content/drive/MyDrive"
      ],
      "execution_count": null,
      "outputs": [
        {
          "output_type": "stream",
          "text": [
            "/content/drive/MyDrive\n"
          ],
          "name": "stdout"
        }
      ]
    },
    {
      "cell_type": "code",
      "metadata": {
        "id": "3qGlPitdCiBN"
      },
      "source": [
        "train_dir=\"/content/drive/MyDrive/dataset_1/train\"\n",
        "test_dir=\"/content/drive/MyDrive/dataset_1/test\"\n",
        "valid_dir=\"/content/drive/MyDrive/dataset_1/val\"  "
      ],
      "execution_count": null,
      "outputs": []
    },
    {
      "cell_type": "code",
      "metadata": {
        "id": "TCn53YF6Cqlf"
      },
      "source": [
        "traindata_gen=ImageDataGenerator(\n",
        "    rescale=1./255.0,\n",
        "    rotation_range=70,\n",
        "    horizontal_flip=True,\n",
        "    fill_mode='nearest'\n",
        ")\n",
        "valid_datagen=ImageDataGenerator(rescale=1./255.0,\n",
        "    fill_mode='nearest')\n",
        "test_datagen=ImageDataGenerator(rescale=1./255.0,\n",
        "    fill_mode='nearest')"
      ],
      "execution_count": null,
      "outputs": []
    },
    {
      "cell_type": "code",
      "metadata": {
        "colab": {
          "base_uri": "https://localhost:8080/"
        },
        "id": "nRa11UowVOLz",
        "outputId": "d8c7a6a3-879e-4c0d-a52c-0face78330fc"
      },
      "source": [
        "pip install scikit-plot"
      ],
      "execution_count": null,
      "outputs": [
        {
          "output_type": "stream",
          "text": [
            "Requirement already satisfied: scikit-plot in /usr/local/lib/python3.7/dist-packages (0.3.7)\n",
            "Requirement already satisfied: scipy>=0.9 in /usr/local/lib/python3.7/dist-packages (from scikit-plot) (1.4.1)\n",
            "Requirement already satisfied: joblib>=0.10 in /usr/local/lib/python3.7/dist-packages (from scikit-plot) (1.0.1)\n",
            "Requirement already satisfied: scikit-learn>=0.18 in /usr/local/lib/python3.7/dist-packages (from scikit-plot) (0.22.2.post1)\n",
            "Requirement already satisfied: matplotlib>=1.4.0 in /usr/local/lib/python3.7/dist-packages (from scikit-plot) (3.2.2)\n",
            "Requirement already satisfied: numpy>=1.13.3 in /usr/local/lib/python3.7/dist-packages (from scipy>=0.9->scikit-plot) (1.19.5)\n",
            "Requirement already satisfied: pyparsing!=2.0.4,!=2.1.2,!=2.1.6,>=2.0.1 in /usr/local/lib/python3.7/dist-packages (from matplotlib>=1.4.0->scikit-plot) (2.4.7)\n",
            "Requirement already satisfied: cycler>=0.10 in /usr/local/lib/python3.7/dist-packages (from matplotlib>=1.4.0->scikit-plot) (0.10.0)\n",
            "Requirement already satisfied: python-dateutil>=2.1 in /usr/local/lib/python3.7/dist-packages (from matplotlib>=1.4.0->scikit-plot) (2.8.1)\n",
            "Requirement already satisfied: kiwisolver>=1.0.1 in /usr/local/lib/python3.7/dist-packages (from matplotlib>=1.4.0->scikit-plot) (1.3.1)\n",
            "Requirement already satisfied: six in /usr/local/lib/python3.7/dist-packages (from cycler>=0.10->matplotlib>=1.4.0->scikit-plot) (1.15.0)\n"
          ],
          "name": "stdout"
        }
      ]
    },
    {
      "cell_type": "code",
      "metadata": {
        "id": "OJC01F8a5m-V"
      },
      "source": [
        "import keras"
      ],
      "execution_count": null,
      "outputs": []
    },
    {
      "cell_type": "code",
      "metadata": {
        "colab": {
          "base_uri": "https://localhost:8080/",
          "height": 35
        },
        "id": "FFQNK8JQ7Tpl",
        "outputId": "dbf3537d-2d10-4d1b-84c9-98aae77a3ee2"
      },
      "source": [
        "keras.__version__"
      ],
      "execution_count": null,
      "outputs": [
        {
          "output_type": "execute_result",
          "data": {
            "application/vnd.google.colaboratory.intrinsic+json": {
              "type": "string"
            },
            "text/plain": [
              "'2.4.3'"
            ]
          },
          "metadata": {
            "tags": []
          },
          "execution_count": 32
        }
      ]
    },
    {
      "cell_type": "code",
      "metadata": {
        "colab": {
          "base_uri": "https://localhost:8080/"
        },
        "id": "vYHwTuDQCu1p",
        "outputId": "00f676a9-0a29-4d23-cbe4-48a1bcf448c6"
      },
      "source": [
        "from keras.applications.inception_resnet_v2 import InceptionResNetV2\n",
        "from keras.models import Model\n",
        "import keras\n",
        "inception = InceptionResNetV2(include_top=False, weights='imagenet', input_shape=(224,224,3))\n",
        "output = inception.layers[-1].output\n",
        "output = keras.layers.Flatten()(output)\n",
        "inception = Model(inception.input,output)\n",
        "for layer in inception.layers:\n",
        "    layer.trainable = False\n",
        "inception.summary()"
      ],
      "execution_count": null,
      "outputs": [
        {
          "output_type": "stream",
          "text": [
            "Model: \"model_2\"\n",
            "__________________________________________________________________________________________________\n",
            "Layer (type)                    Output Shape         Param #     Connected to                     \n",
            "==================================================================================================\n",
            "input_3 (InputLayer)            [(None, 224, 224, 3) 0                                            \n",
            "__________________________________________________________________________________________________\n",
            "conv2d_406 (Conv2D)             (None, 111, 111, 32) 864         input_3[0][0]                    \n",
            "__________________________________________________________________________________________________\n",
            "batch_normalization_408 (BatchN (None, 111, 111, 32) 96          conv2d_406[0][0]                 \n",
            "__________________________________________________________________________________________________\n",
            "activation_406 (Activation)     (None, 111, 111, 32) 0           batch_normalization_408[0][0]    \n",
            "__________________________________________________________________________________________________\n",
            "conv2d_407 (Conv2D)             (None, 109, 109, 32) 9216        activation_406[0][0]             \n",
            "__________________________________________________________________________________________________\n",
            "batch_normalization_409 (BatchN (None, 109, 109, 32) 96          conv2d_407[0][0]                 \n",
            "__________________________________________________________________________________________________\n",
            "activation_407 (Activation)     (None, 109, 109, 32) 0           batch_normalization_409[0][0]    \n",
            "__________________________________________________________________________________________________\n",
            "conv2d_408 (Conv2D)             (None, 109, 109, 64) 18432       activation_407[0][0]             \n",
            "__________________________________________________________________________________________________\n",
            "batch_normalization_410 (BatchN (None, 109, 109, 64) 192         conv2d_408[0][0]                 \n",
            "__________________________________________________________________________________________________\n",
            "activation_408 (Activation)     (None, 109, 109, 64) 0           batch_normalization_410[0][0]    \n",
            "__________________________________________________________________________________________________\n",
            "max_pooling2d_8 (MaxPooling2D)  (None, 54, 54, 64)   0           activation_408[0][0]             \n",
            "__________________________________________________________________________________________________\n",
            "conv2d_409 (Conv2D)             (None, 54, 54, 80)   5120        max_pooling2d_8[0][0]            \n",
            "__________________________________________________________________________________________________\n",
            "batch_normalization_411 (BatchN (None, 54, 54, 80)   240         conv2d_409[0][0]                 \n",
            "__________________________________________________________________________________________________\n",
            "activation_409 (Activation)     (None, 54, 54, 80)   0           batch_normalization_411[0][0]    \n",
            "__________________________________________________________________________________________________\n",
            "conv2d_410 (Conv2D)             (None, 52, 52, 192)  138240      activation_409[0][0]             \n",
            "__________________________________________________________________________________________________\n",
            "batch_normalization_412 (BatchN (None, 52, 52, 192)  576         conv2d_410[0][0]                 \n",
            "__________________________________________________________________________________________________\n",
            "activation_410 (Activation)     (None, 52, 52, 192)  0           batch_normalization_412[0][0]    \n",
            "__________________________________________________________________________________________________\n",
            "max_pooling2d_9 (MaxPooling2D)  (None, 25, 25, 192)  0           activation_410[0][0]             \n",
            "__________________________________________________________________________________________________\n",
            "conv2d_414 (Conv2D)             (None, 25, 25, 64)   12288       max_pooling2d_9[0][0]            \n",
            "__________________________________________________________________________________________________\n",
            "batch_normalization_416 (BatchN (None, 25, 25, 64)   192         conv2d_414[0][0]                 \n",
            "__________________________________________________________________________________________________\n",
            "activation_414 (Activation)     (None, 25, 25, 64)   0           batch_normalization_416[0][0]    \n",
            "__________________________________________________________________________________________________\n",
            "conv2d_412 (Conv2D)             (None, 25, 25, 48)   9216        max_pooling2d_9[0][0]            \n",
            "__________________________________________________________________________________________________\n",
            "conv2d_415 (Conv2D)             (None, 25, 25, 96)   55296       activation_414[0][0]             \n",
            "__________________________________________________________________________________________________\n",
            "batch_normalization_414 (BatchN (None, 25, 25, 48)   144         conv2d_412[0][0]                 \n",
            "__________________________________________________________________________________________________\n",
            "batch_normalization_417 (BatchN (None, 25, 25, 96)   288         conv2d_415[0][0]                 \n",
            "__________________________________________________________________________________________________\n",
            "activation_412 (Activation)     (None, 25, 25, 48)   0           batch_normalization_414[0][0]    \n",
            "__________________________________________________________________________________________________\n",
            "activation_415 (Activation)     (None, 25, 25, 96)   0           batch_normalization_417[0][0]    \n",
            "__________________________________________________________________________________________________\n",
            "average_pooling2d_2 (AveragePoo (None, 25, 25, 192)  0           max_pooling2d_9[0][0]            \n",
            "__________________________________________________________________________________________________\n",
            "conv2d_411 (Conv2D)             (None, 25, 25, 96)   18432       max_pooling2d_9[0][0]            \n",
            "__________________________________________________________________________________________________\n",
            "conv2d_413 (Conv2D)             (None, 25, 25, 64)   76800       activation_412[0][0]             \n",
            "__________________________________________________________________________________________________\n",
            "conv2d_416 (Conv2D)             (None, 25, 25, 96)   82944       activation_415[0][0]             \n",
            "__________________________________________________________________________________________________\n",
            "conv2d_417 (Conv2D)             (None, 25, 25, 64)   12288       average_pooling2d_2[0][0]        \n",
            "__________________________________________________________________________________________________\n",
            "batch_normalization_413 (BatchN (None, 25, 25, 96)   288         conv2d_411[0][0]                 \n",
            "__________________________________________________________________________________________________\n",
            "batch_normalization_415 (BatchN (None, 25, 25, 64)   192         conv2d_413[0][0]                 \n",
            "__________________________________________________________________________________________________\n",
            "batch_normalization_418 (BatchN (None, 25, 25, 96)   288         conv2d_416[0][0]                 \n",
            "__________________________________________________________________________________________________\n",
            "batch_normalization_419 (BatchN (None, 25, 25, 64)   192         conv2d_417[0][0]                 \n",
            "__________________________________________________________________________________________________\n",
            "activation_411 (Activation)     (None, 25, 25, 96)   0           batch_normalization_413[0][0]    \n",
            "__________________________________________________________________________________________________\n",
            "activation_413 (Activation)     (None, 25, 25, 64)   0           batch_normalization_415[0][0]    \n",
            "__________________________________________________________________________________________________\n",
            "activation_416 (Activation)     (None, 25, 25, 96)   0           batch_normalization_418[0][0]    \n",
            "__________________________________________________________________________________________________\n",
            "activation_417 (Activation)     (None, 25, 25, 64)   0           batch_normalization_419[0][0]    \n",
            "__________________________________________________________________________________________________\n",
            "mixed_5b (Concatenate)          (None, 25, 25, 320)  0           activation_411[0][0]             \n",
            "                                                                 activation_413[0][0]             \n",
            "                                                                 activation_416[0][0]             \n",
            "                                                                 activation_417[0][0]             \n",
            "__________________________________________________________________________________________________\n",
            "conv2d_421 (Conv2D)             (None, 25, 25, 32)   10240       mixed_5b[0][0]                   \n",
            "__________________________________________________________________________________________________\n",
            "batch_normalization_423 (BatchN (None, 25, 25, 32)   96          conv2d_421[0][0]                 \n",
            "__________________________________________________________________________________________________\n",
            "activation_421 (Activation)     (None, 25, 25, 32)   0           batch_normalization_423[0][0]    \n",
            "__________________________________________________________________________________________________\n",
            "conv2d_419 (Conv2D)             (None, 25, 25, 32)   10240       mixed_5b[0][0]                   \n",
            "__________________________________________________________________________________________________\n",
            "conv2d_422 (Conv2D)             (None, 25, 25, 48)   13824       activation_421[0][0]             \n",
            "__________________________________________________________________________________________________\n",
            "batch_normalization_421 (BatchN (None, 25, 25, 32)   96          conv2d_419[0][0]                 \n",
            "__________________________________________________________________________________________________\n",
            "batch_normalization_424 (BatchN (None, 25, 25, 48)   144         conv2d_422[0][0]                 \n",
            "__________________________________________________________________________________________________\n",
            "activation_419 (Activation)     (None, 25, 25, 32)   0           batch_normalization_421[0][0]    \n",
            "__________________________________________________________________________________________________\n",
            "activation_422 (Activation)     (None, 25, 25, 48)   0           batch_normalization_424[0][0]    \n",
            "__________________________________________________________________________________________________\n",
            "conv2d_418 (Conv2D)             (None, 25, 25, 32)   10240       mixed_5b[0][0]                   \n",
            "__________________________________________________________________________________________________\n",
            "conv2d_420 (Conv2D)             (None, 25, 25, 32)   9216        activation_419[0][0]             \n",
            "__________________________________________________________________________________________________\n",
            "conv2d_423 (Conv2D)             (None, 25, 25, 64)   27648       activation_422[0][0]             \n",
            "__________________________________________________________________________________________________\n",
            "batch_normalization_420 (BatchN (None, 25, 25, 32)   96          conv2d_418[0][0]                 \n",
            "__________________________________________________________________________________________________\n",
            "batch_normalization_422 (BatchN (None, 25, 25, 32)   96          conv2d_420[0][0]                 \n",
            "__________________________________________________________________________________________________\n",
            "batch_normalization_425 (BatchN (None, 25, 25, 64)   192         conv2d_423[0][0]                 \n",
            "__________________________________________________________________________________________________\n",
            "activation_418 (Activation)     (None, 25, 25, 32)   0           batch_normalization_420[0][0]    \n",
            "__________________________________________________________________________________________________\n",
            "activation_420 (Activation)     (None, 25, 25, 32)   0           batch_normalization_422[0][0]    \n",
            "__________________________________________________________________________________________________\n",
            "activation_423 (Activation)     (None, 25, 25, 64)   0           batch_normalization_425[0][0]    \n",
            "__________________________________________________________________________________________________\n",
            "block35_1_mixed (Concatenate)   (None, 25, 25, 128)  0           activation_418[0][0]             \n",
            "                                                                 activation_420[0][0]             \n",
            "                                                                 activation_423[0][0]             \n",
            "__________________________________________________________________________________________________\n",
            "block35_1_conv (Conv2D)         (None, 25, 25, 320)  41280       block35_1_mixed[0][0]            \n",
            "__________________________________________________________________________________________________\n",
            "block35_1 (Lambda)              (None, 25, 25, 320)  0           mixed_5b[0][0]                   \n",
            "                                                                 block35_1_conv[0][0]             \n",
            "__________________________________________________________________________________________________\n",
            "block35_1_ac (Activation)       (None, 25, 25, 320)  0           block35_1[0][0]                  \n",
            "__________________________________________________________________________________________________\n",
            "conv2d_427 (Conv2D)             (None, 25, 25, 32)   10240       block35_1_ac[0][0]               \n",
            "__________________________________________________________________________________________________\n",
            "batch_normalization_429 (BatchN (None, 25, 25, 32)   96          conv2d_427[0][0]                 \n",
            "__________________________________________________________________________________________________\n",
            "activation_427 (Activation)     (None, 25, 25, 32)   0           batch_normalization_429[0][0]    \n",
            "__________________________________________________________________________________________________\n",
            "conv2d_425 (Conv2D)             (None, 25, 25, 32)   10240       block35_1_ac[0][0]               \n",
            "__________________________________________________________________________________________________\n",
            "conv2d_428 (Conv2D)             (None, 25, 25, 48)   13824       activation_427[0][0]             \n",
            "__________________________________________________________________________________________________\n",
            "batch_normalization_427 (BatchN (None, 25, 25, 32)   96          conv2d_425[0][0]                 \n",
            "__________________________________________________________________________________________________\n",
            "batch_normalization_430 (BatchN (None, 25, 25, 48)   144         conv2d_428[0][0]                 \n",
            "__________________________________________________________________________________________________\n",
            "activation_425 (Activation)     (None, 25, 25, 32)   0           batch_normalization_427[0][0]    \n",
            "__________________________________________________________________________________________________\n",
            "activation_428 (Activation)     (None, 25, 25, 48)   0           batch_normalization_430[0][0]    \n",
            "__________________________________________________________________________________________________\n",
            "conv2d_424 (Conv2D)             (None, 25, 25, 32)   10240       block35_1_ac[0][0]               \n",
            "__________________________________________________________________________________________________\n",
            "conv2d_426 (Conv2D)             (None, 25, 25, 32)   9216        activation_425[0][0]             \n",
            "__________________________________________________________________________________________________\n",
            "conv2d_429 (Conv2D)             (None, 25, 25, 64)   27648       activation_428[0][0]             \n",
            "__________________________________________________________________________________________________\n",
            "batch_normalization_426 (BatchN (None, 25, 25, 32)   96          conv2d_424[0][0]                 \n",
            "__________________________________________________________________________________________________\n",
            "batch_normalization_428 (BatchN (None, 25, 25, 32)   96          conv2d_426[0][0]                 \n",
            "__________________________________________________________________________________________________\n",
            "batch_normalization_431 (BatchN (None, 25, 25, 64)   192         conv2d_429[0][0]                 \n",
            "__________________________________________________________________________________________________\n",
            "activation_424 (Activation)     (None, 25, 25, 32)   0           batch_normalization_426[0][0]    \n",
            "__________________________________________________________________________________________________\n",
            "activation_426 (Activation)     (None, 25, 25, 32)   0           batch_normalization_428[0][0]    \n",
            "__________________________________________________________________________________________________\n",
            "activation_429 (Activation)     (None, 25, 25, 64)   0           batch_normalization_431[0][0]    \n",
            "__________________________________________________________________________________________________\n",
            "block35_2_mixed (Concatenate)   (None, 25, 25, 128)  0           activation_424[0][0]             \n",
            "                                                                 activation_426[0][0]             \n",
            "                                                                 activation_429[0][0]             \n",
            "__________________________________________________________________________________________________\n",
            "block35_2_conv (Conv2D)         (None, 25, 25, 320)  41280       block35_2_mixed[0][0]            \n",
            "__________________________________________________________________________________________________\n",
            "block35_2 (Lambda)              (None, 25, 25, 320)  0           block35_1_ac[0][0]               \n",
            "                                                                 block35_2_conv[0][0]             \n",
            "__________________________________________________________________________________________________\n",
            "block35_2_ac (Activation)       (None, 25, 25, 320)  0           block35_2[0][0]                  \n",
            "__________________________________________________________________________________________________\n",
            "conv2d_433 (Conv2D)             (None, 25, 25, 32)   10240       block35_2_ac[0][0]               \n",
            "__________________________________________________________________________________________________\n",
            "batch_normalization_435 (BatchN (None, 25, 25, 32)   96          conv2d_433[0][0]                 \n",
            "__________________________________________________________________________________________________\n",
            "activation_433 (Activation)     (None, 25, 25, 32)   0           batch_normalization_435[0][0]    \n",
            "__________________________________________________________________________________________________\n",
            "conv2d_431 (Conv2D)             (None, 25, 25, 32)   10240       block35_2_ac[0][0]               \n",
            "__________________________________________________________________________________________________\n",
            "conv2d_434 (Conv2D)             (None, 25, 25, 48)   13824       activation_433[0][0]             \n",
            "__________________________________________________________________________________________________\n",
            "batch_normalization_433 (BatchN (None, 25, 25, 32)   96          conv2d_431[0][0]                 \n",
            "__________________________________________________________________________________________________\n",
            "batch_normalization_436 (BatchN (None, 25, 25, 48)   144         conv2d_434[0][0]                 \n",
            "__________________________________________________________________________________________________\n",
            "activation_431 (Activation)     (None, 25, 25, 32)   0           batch_normalization_433[0][0]    \n",
            "__________________________________________________________________________________________________\n",
            "activation_434 (Activation)     (None, 25, 25, 48)   0           batch_normalization_436[0][0]    \n",
            "__________________________________________________________________________________________________\n",
            "conv2d_430 (Conv2D)             (None, 25, 25, 32)   10240       block35_2_ac[0][0]               \n",
            "__________________________________________________________________________________________________\n",
            "conv2d_432 (Conv2D)             (None, 25, 25, 32)   9216        activation_431[0][0]             \n",
            "__________________________________________________________________________________________________\n",
            "conv2d_435 (Conv2D)             (None, 25, 25, 64)   27648       activation_434[0][0]             \n",
            "__________________________________________________________________________________________________\n",
            "batch_normalization_432 (BatchN (None, 25, 25, 32)   96          conv2d_430[0][0]                 \n",
            "__________________________________________________________________________________________________\n",
            "batch_normalization_434 (BatchN (None, 25, 25, 32)   96          conv2d_432[0][0]                 \n",
            "__________________________________________________________________________________________________\n",
            "batch_normalization_437 (BatchN (None, 25, 25, 64)   192         conv2d_435[0][0]                 \n",
            "__________________________________________________________________________________________________\n",
            "activation_430 (Activation)     (None, 25, 25, 32)   0           batch_normalization_432[0][0]    \n",
            "__________________________________________________________________________________________________\n",
            "activation_432 (Activation)     (None, 25, 25, 32)   0           batch_normalization_434[0][0]    \n",
            "__________________________________________________________________________________________________\n",
            "activation_435 (Activation)     (None, 25, 25, 64)   0           batch_normalization_437[0][0]    \n",
            "__________________________________________________________________________________________________\n",
            "block35_3_mixed (Concatenate)   (None, 25, 25, 128)  0           activation_430[0][0]             \n",
            "                                                                 activation_432[0][0]             \n",
            "                                                                 activation_435[0][0]             \n",
            "__________________________________________________________________________________________________\n",
            "block35_3_conv (Conv2D)         (None, 25, 25, 320)  41280       block35_3_mixed[0][0]            \n",
            "__________________________________________________________________________________________________\n",
            "block35_3 (Lambda)              (None, 25, 25, 320)  0           block35_2_ac[0][0]               \n",
            "                                                                 block35_3_conv[0][0]             \n",
            "__________________________________________________________________________________________________\n",
            "block35_3_ac (Activation)       (None, 25, 25, 320)  0           block35_3[0][0]                  \n",
            "__________________________________________________________________________________________________\n",
            "conv2d_439 (Conv2D)             (None, 25, 25, 32)   10240       block35_3_ac[0][0]               \n",
            "__________________________________________________________________________________________________\n",
            "batch_normalization_441 (BatchN (None, 25, 25, 32)   96          conv2d_439[0][0]                 \n",
            "__________________________________________________________________________________________________\n",
            "activation_439 (Activation)     (None, 25, 25, 32)   0           batch_normalization_441[0][0]    \n",
            "__________________________________________________________________________________________________\n",
            "conv2d_437 (Conv2D)             (None, 25, 25, 32)   10240       block35_3_ac[0][0]               \n",
            "__________________________________________________________________________________________________\n",
            "conv2d_440 (Conv2D)             (None, 25, 25, 48)   13824       activation_439[0][0]             \n",
            "__________________________________________________________________________________________________\n",
            "batch_normalization_439 (BatchN (None, 25, 25, 32)   96          conv2d_437[0][0]                 \n",
            "__________________________________________________________________________________________________\n",
            "batch_normalization_442 (BatchN (None, 25, 25, 48)   144         conv2d_440[0][0]                 \n",
            "__________________________________________________________________________________________________\n",
            "activation_437 (Activation)     (None, 25, 25, 32)   0           batch_normalization_439[0][0]    \n",
            "__________________________________________________________________________________________________\n",
            "activation_440 (Activation)     (None, 25, 25, 48)   0           batch_normalization_442[0][0]    \n",
            "__________________________________________________________________________________________________\n",
            "conv2d_436 (Conv2D)             (None, 25, 25, 32)   10240       block35_3_ac[0][0]               \n",
            "__________________________________________________________________________________________________\n",
            "conv2d_438 (Conv2D)             (None, 25, 25, 32)   9216        activation_437[0][0]             \n",
            "__________________________________________________________________________________________________\n",
            "conv2d_441 (Conv2D)             (None, 25, 25, 64)   27648       activation_440[0][0]             \n",
            "__________________________________________________________________________________________________\n",
            "batch_normalization_438 (BatchN (None, 25, 25, 32)   96          conv2d_436[0][0]                 \n",
            "__________________________________________________________________________________________________\n",
            "batch_normalization_440 (BatchN (None, 25, 25, 32)   96          conv2d_438[0][0]                 \n",
            "__________________________________________________________________________________________________\n",
            "batch_normalization_443 (BatchN (None, 25, 25, 64)   192         conv2d_441[0][0]                 \n",
            "__________________________________________________________________________________________________\n",
            "activation_436 (Activation)     (None, 25, 25, 32)   0           batch_normalization_438[0][0]    \n",
            "__________________________________________________________________________________________________\n",
            "activation_438 (Activation)     (None, 25, 25, 32)   0           batch_normalization_440[0][0]    \n",
            "__________________________________________________________________________________________________\n",
            "activation_441 (Activation)     (None, 25, 25, 64)   0           batch_normalization_443[0][0]    \n",
            "__________________________________________________________________________________________________\n",
            "block35_4_mixed (Concatenate)   (None, 25, 25, 128)  0           activation_436[0][0]             \n",
            "                                                                 activation_438[0][0]             \n",
            "                                                                 activation_441[0][0]             \n",
            "__________________________________________________________________________________________________\n",
            "block35_4_conv (Conv2D)         (None, 25, 25, 320)  41280       block35_4_mixed[0][0]            \n",
            "__________________________________________________________________________________________________\n",
            "block35_4 (Lambda)              (None, 25, 25, 320)  0           block35_3_ac[0][0]               \n",
            "                                                                 block35_4_conv[0][0]             \n",
            "__________________________________________________________________________________________________\n",
            "block35_4_ac (Activation)       (None, 25, 25, 320)  0           block35_4[0][0]                  \n",
            "__________________________________________________________________________________________________\n",
            "conv2d_445 (Conv2D)             (None, 25, 25, 32)   10240       block35_4_ac[0][0]               \n",
            "__________________________________________________________________________________________________\n",
            "batch_normalization_447 (BatchN (None, 25, 25, 32)   96          conv2d_445[0][0]                 \n",
            "__________________________________________________________________________________________________\n",
            "activation_445 (Activation)     (None, 25, 25, 32)   0           batch_normalization_447[0][0]    \n",
            "__________________________________________________________________________________________________\n",
            "conv2d_443 (Conv2D)             (None, 25, 25, 32)   10240       block35_4_ac[0][0]               \n",
            "__________________________________________________________________________________________________\n",
            "conv2d_446 (Conv2D)             (None, 25, 25, 48)   13824       activation_445[0][0]             \n",
            "__________________________________________________________________________________________________\n",
            "batch_normalization_445 (BatchN (None, 25, 25, 32)   96          conv2d_443[0][0]                 \n",
            "__________________________________________________________________________________________________\n",
            "batch_normalization_448 (BatchN (None, 25, 25, 48)   144         conv2d_446[0][0]                 \n",
            "__________________________________________________________________________________________________\n",
            "activation_443 (Activation)     (None, 25, 25, 32)   0           batch_normalization_445[0][0]    \n",
            "__________________________________________________________________________________________________\n",
            "activation_446 (Activation)     (None, 25, 25, 48)   0           batch_normalization_448[0][0]    \n",
            "__________________________________________________________________________________________________\n",
            "conv2d_442 (Conv2D)             (None, 25, 25, 32)   10240       block35_4_ac[0][0]               \n",
            "__________________________________________________________________________________________________\n",
            "conv2d_444 (Conv2D)             (None, 25, 25, 32)   9216        activation_443[0][0]             \n",
            "__________________________________________________________________________________________________\n",
            "conv2d_447 (Conv2D)             (None, 25, 25, 64)   27648       activation_446[0][0]             \n",
            "__________________________________________________________________________________________________\n",
            "batch_normalization_444 (BatchN (None, 25, 25, 32)   96          conv2d_442[0][0]                 \n",
            "__________________________________________________________________________________________________\n",
            "batch_normalization_446 (BatchN (None, 25, 25, 32)   96          conv2d_444[0][0]                 \n",
            "__________________________________________________________________________________________________\n",
            "batch_normalization_449 (BatchN (None, 25, 25, 64)   192         conv2d_447[0][0]                 \n",
            "__________________________________________________________________________________________________\n",
            "activation_442 (Activation)     (None, 25, 25, 32)   0           batch_normalization_444[0][0]    \n",
            "__________________________________________________________________________________________________\n",
            "activation_444 (Activation)     (None, 25, 25, 32)   0           batch_normalization_446[0][0]    \n",
            "__________________________________________________________________________________________________\n",
            "activation_447 (Activation)     (None, 25, 25, 64)   0           batch_normalization_449[0][0]    \n",
            "__________________________________________________________________________________________________\n",
            "block35_5_mixed (Concatenate)   (None, 25, 25, 128)  0           activation_442[0][0]             \n",
            "                                                                 activation_444[0][0]             \n",
            "                                                                 activation_447[0][0]             \n",
            "__________________________________________________________________________________________________\n",
            "block35_5_conv (Conv2D)         (None, 25, 25, 320)  41280       block35_5_mixed[0][0]            \n",
            "__________________________________________________________________________________________________\n",
            "block35_5 (Lambda)              (None, 25, 25, 320)  0           block35_4_ac[0][0]               \n",
            "                                                                 block35_5_conv[0][0]             \n",
            "__________________________________________________________________________________________________\n",
            "block35_5_ac (Activation)       (None, 25, 25, 320)  0           block35_5[0][0]                  \n",
            "__________________________________________________________________________________________________\n",
            "conv2d_451 (Conv2D)             (None, 25, 25, 32)   10240       block35_5_ac[0][0]               \n",
            "__________________________________________________________________________________________________\n",
            "batch_normalization_453 (BatchN (None, 25, 25, 32)   96          conv2d_451[0][0]                 \n",
            "__________________________________________________________________________________________________\n",
            "activation_451 (Activation)     (None, 25, 25, 32)   0           batch_normalization_453[0][0]    \n",
            "__________________________________________________________________________________________________\n",
            "conv2d_449 (Conv2D)             (None, 25, 25, 32)   10240       block35_5_ac[0][0]               \n",
            "__________________________________________________________________________________________________\n",
            "conv2d_452 (Conv2D)             (None, 25, 25, 48)   13824       activation_451[0][0]             \n",
            "__________________________________________________________________________________________________\n",
            "batch_normalization_451 (BatchN (None, 25, 25, 32)   96          conv2d_449[0][0]                 \n",
            "__________________________________________________________________________________________________\n",
            "batch_normalization_454 (BatchN (None, 25, 25, 48)   144         conv2d_452[0][0]                 \n",
            "__________________________________________________________________________________________________\n",
            "activation_449 (Activation)     (None, 25, 25, 32)   0           batch_normalization_451[0][0]    \n",
            "__________________________________________________________________________________________________\n",
            "activation_452 (Activation)     (None, 25, 25, 48)   0           batch_normalization_454[0][0]    \n",
            "__________________________________________________________________________________________________\n",
            "conv2d_448 (Conv2D)             (None, 25, 25, 32)   10240       block35_5_ac[0][0]               \n",
            "__________________________________________________________________________________________________\n",
            "conv2d_450 (Conv2D)             (None, 25, 25, 32)   9216        activation_449[0][0]             \n",
            "__________________________________________________________________________________________________\n",
            "conv2d_453 (Conv2D)             (None, 25, 25, 64)   27648       activation_452[0][0]             \n",
            "__________________________________________________________________________________________________\n",
            "batch_normalization_450 (BatchN (None, 25, 25, 32)   96          conv2d_448[0][0]                 \n",
            "__________________________________________________________________________________________________\n",
            "batch_normalization_452 (BatchN (None, 25, 25, 32)   96          conv2d_450[0][0]                 \n",
            "__________________________________________________________________________________________________\n",
            "batch_normalization_455 (BatchN (None, 25, 25, 64)   192         conv2d_453[0][0]                 \n",
            "__________________________________________________________________________________________________\n",
            "activation_448 (Activation)     (None, 25, 25, 32)   0           batch_normalization_450[0][0]    \n",
            "__________________________________________________________________________________________________\n",
            "activation_450 (Activation)     (None, 25, 25, 32)   0           batch_normalization_452[0][0]    \n",
            "__________________________________________________________________________________________________\n",
            "activation_453 (Activation)     (None, 25, 25, 64)   0           batch_normalization_455[0][0]    \n",
            "__________________________________________________________________________________________________\n",
            "block35_6_mixed (Concatenate)   (None, 25, 25, 128)  0           activation_448[0][0]             \n",
            "                                                                 activation_450[0][0]             \n",
            "                                                                 activation_453[0][0]             \n",
            "__________________________________________________________________________________________________\n",
            "block35_6_conv (Conv2D)         (None, 25, 25, 320)  41280       block35_6_mixed[0][0]            \n",
            "__________________________________________________________________________________________________\n",
            "block35_6 (Lambda)              (None, 25, 25, 320)  0           block35_5_ac[0][0]               \n",
            "                                                                 block35_6_conv[0][0]             \n",
            "__________________________________________________________________________________________________\n",
            "block35_6_ac (Activation)       (None, 25, 25, 320)  0           block35_6[0][0]                  \n",
            "__________________________________________________________________________________________________\n",
            "conv2d_457 (Conv2D)             (None, 25, 25, 32)   10240       block35_6_ac[0][0]               \n",
            "__________________________________________________________________________________________________\n",
            "batch_normalization_459 (BatchN (None, 25, 25, 32)   96          conv2d_457[0][0]                 \n",
            "__________________________________________________________________________________________________\n",
            "activation_457 (Activation)     (None, 25, 25, 32)   0           batch_normalization_459[0][0]    \n",
            "__________________________________________________________________________________________________\n",
            "conv2d_455 (Conv2D)             (None, 25, 25, 32)   10240       block35_6_ac[0][0]               \n",
            "__________________________________________________________________________________________________\n",
            "conv2d_458 (Conv2D)             (None, 25, 25, 48)   13824       activation_457[0][0]             \n",
            "__________________________________________________________________________________________________\n",
            "batch_normalization_457 (BatchN (None, 25, 25, 32)   96          conv2d_455[0][0]                 \n",
            "__________________________________________________________________________________________________\n",
            "batch_normalization_460 (BatchN (None, 25, 25, 48)   144         conv2d_458[0][0]                 \n",
            "__________________________________________________________________________________________________\n",
            "activation_455 (Activation)     (None, 25, 25, 32)   0           batch_normalization_457[0][0]    \n",
            "__________________________________________________________________________________________________\n",
            "activation_458 (Activation)     (None, 25, 25, 48)   0           batch_normalization_460[0][0]    \n",
            "__________________________________________________________________________________________________\n",
            "conv2d_454 (Conv2D)             (None, 25, 25, 32)   10240       block35_6_ac[0][0]               \n",
            "__________________________________________________________________________________________________\n",
            "conv2d_456 (Conv2D)             (None, 25, 25, 32)   9216        activation_455[0][0]             \n",
            "__________________________________________________________________________________________________\n",
            "conv2d_459 (Conv2D)             (None, 25, 25, 64)   27648       activation_458[0][0]             \n",
            "__________________________________________________________________________________________________\n",
            "batch_normalization_456 (BatchN (None, 25, 25, 32)   96          conv2d_454[0][0]                 \n",
            "__________________________________________________________________________________________________\n",
            "batch_normalization_458 (BatchN (None, 25, 25, 32)   96          conv2d_456[0][0]                 \n",
            "__________________________________________________________________________________________________\n",
            "batch_normalization_461 (BatchN (None, 25, 25, 64)   192         conv2d_459[0][0]                 \n",
            "__________________________________________________________________________________________________\n",
            "activation_454 (Activation)     (None, 25, 25, 32)   0           batch_normalization_456[0][0]    \n",
            "__________________________________________________________________________________________________\n",
            "activation_456 (Activation)     (None, 25, 25, 32)   0           batch_normalization_458[0][0]    \n",
            "__________________________________________________________________________________________________\n",
            "activation_459 (Activation)     (None, 25, 25, 64)   0           batch_normalization_461[0][0]    \n",
            "__________________________________________________________________________________________________\n",
            "block35_7_mixed (Concatenate)   (None, 25, 25, 128)  0           activation_454[0][0]             \n",
            "                                                                 activation_456[0][0]             \n",
            "                                                                 activation_459[0][0]             \n",
            "__________________________________________________________________________________________________\n",
            "block35_7_conv (Conv2D)         (None, 25, 25, 320)  41280       block35_7_mixed[0][0]            \n",
            "__________________________________________________________________________________________________\n",
            "block35_7 (Lambda)              (None, 25, 25, 320)  0           block35_6_ac[0][0]               \n",
            "                                                                 block35_7_conv[0][0]             \n",
            "__________________________________________________________________________________________________\n",
            "block35_7_ac (Activation)       (None, 25, 25, 320)  0           block35_7[0][0]                  \n",
            "__________________________________________________________________________________________________\n",
            "conv2d_463 (Conv2D)             (None, 25, 25, 32)   10240       block35_7_ac[0][0]               \n",
            "__________________________________________________________________________________________________\n",
            "batch_normalization_465 (BatchN (None, 25, 25, 32)   96          conv2d_463[0][0]                 \n",
            "__________________________________________________________________________________________________\n",
            "activation_463 (Activation)     (None, 25, 25, 32)   0           batch_normalization_465[0][0]    \n",
            "__________________________________________________________________________________________________\n",
            "conv2d_461 (Conv2D)             (None, 25, 25, 32)   10240       block35_7_ac[0][0]               \n",
            "__________________________________________________________________________________________________\n",
            "conv2d_464 (Conv2D)             (None, 25, 25, 48)   13824       activation_463[0][0]             \n",
            "__________________________________________________________________________________________________\n",
            "batch_normalization_463 (BatchN (None, 25, 25, 32)   96          conv2d_461[0][0]                 \n",
            "__________________________________________________________________________________________________\n",
            "batch_normalization_466 (BatchN (None, 25, 25, 48)   144         conv2d_464[0][0]                 \n",
            "__________________________________________________________________________________________________\n",
            "activation_461 (Activation)     (None, 25, 25, 32)   0           batch_normalization_463[0][0]    \n",
            "__________________________________________________________________________________________________\n",
            "activation_464 (Activation)     (None, 25, 25, 48)   0           batch_normalization_466[0][0]    \n",
            "__________________________________________________________________________________________________\n",
            "conv2d_460 (Conv2D)             (None, 25, 25, 32)   10240       block35_7_ac[0][0]               \n",
            "__________________________________________________________________________________________________\n",
            "conv2d_462 (Conv2D)             (None, 25, 25, 32)   9216        activation_461[0][0]             \n",
            "__________________________________________________________________________________________________\n",
            "conv2d_465 (Conv2D)             (None, 25, 25, 64)   27648       activation_464[0][0]             \n",
            "__________________________________________________________________________________________________\n",
            "batch_normalization_462 (BatchN (None, 25, 25, 32)   96          conv2d_460[0][0]                 \n",
            "__________________________________________________________________________________________________\n",
            "batch_normalization_464 (BatchN (None, 25, 25, 32)   96          conv2d_462[0][0]                 \n",
            "__________________________________________________________________________________________________\n",
            "batch_normalization_467 (BatchN (None, 25, 25, 64)   192         conv2d_465[0][0]                 \n",
            "__________________________________________________________________________________________________\n",
            "activation_460 (Activation)     (None, 25, 25, 32)   0           batch_normalization_462[0][0]    \n",
            "__________________________________________________________________________________________________\n",
            "activation_462 (Activation)     (None, 25, 25, 32)   0           batch_normalization_464[0][0]    \n",
            "__________________________________________________________________________________________________\n",
            "activation_465 (Activation)     (None, 25, 25, 64)   0           batch_normalization_467[0][0]    \n",
            "__________________________________________________________________________________________________\n",
            "block35_8_mixed (Concatenate)   (None, 25, 25, 128)  0           activation_460[0][0]             \n",
            "                                                                 activation_462[0][0]             \n",
            "                                                                 activation_465[0][0]             \n",
            "__________________________________________________________________________________________________\n",
            "block35_8_conv (Conv2D)         (None, 25, 25, 320)  41280       block35_8_mixed[0][0]            \n",
            "__________________________________________________________________________________________________\n",
            "block35_8 (Lambda)              (None, 25, 25, 320)  0           block35_7_ac[0][0]               \n",
            "                                                                 block35_8_conv[0][0]             \n",
            "__________________________________________________________________________________________________\n",
            "block35_8_ac (Activation)       (None, 25, 25, 320)  0           block35_8[0][0]                  \n",
            "__________________________________________________________________________________________________\n",
            "conv2d_469 (Conv2D)             (None, 25, 25, 32)   10240       block35_8_ac[0][0]               \n",
            "__________________________________________________________________________________________________\n",
            "batch_normalization_471 (BatchN (None, 25, 25, 32)   96          conv2d_469[0][0]                 \n",
            "__________________________________________________________________________________________________\n",
            "activation_469 (Activation)     (None, 25, 25, 32)   0           batch_normalization_471[0][0]    \n",
            "__________________________________________________________________________________________________\n",
            "conv2d_467 (Conv2D)             (None, 25, 25, 32)   10240       block35_8_ac[0][0]               \n",
            "__________________________________________________________________________________________________\n",
            "conv2d_470 (Conv2D)             (None, 25, 25, 48)   13824       activation_469[0][0]             \n",
            "__________________________________________________________________________________________________\n",
            "batch_normalization_469 (BatchN (None, 25, 25, 32)   96          conv2d_467[0][0]                 \n",
            "__________________________________________________________________________________________________\n",
            "batch_normalization_472 (BatchN (None, 25, 25, 48)   144         conv2d_470[0][0]                 \n",
            "__________________________________________________________________________________________________\n",
            "activation_467 (Activation)     (None, 25, 25, 32)   0           batch_normalization_469[0][0]    \n",
            "__________________________________________________________________________________________________\n",
            "activation_470 (Activation)     (None, 25, 25, 48)   0           batch_normalization_472[0][0]    \n",
            "__________________________________________________________________________________________________\n",
            "conv2d_466 (Conv2D)             (None, 25, 25, 32)   10240       block35_8_ac[0][0]               \n",
            "__________________________________________________________________________________________________\n",
            "conv2d_468 (Conv2D)             (None, 25, 25, 32)   9216        activation_467[0][0]             \n",
            "__________________________________________________________________________________________________\n",
            "conv2d_471 (Conv2D)             (None, 25, 25, 64)   27648       activation_470[0][0]             \n",
            "__________________________________________________________________________________________________\n",
            "batch_normalization_468 (BatchN (None, 25, 25, 32)   96          conv2d_466[0][0]                 \n",
            "__________________________________________________________________________________________________\n",
            "batch_normalization_470 (BatchN (None, 25, 25, 32)   96          conv2d_468[0][0]                 \n",
            "__________________________________________________________________________________________________\n",
            "batch_normalization_473 (BatchN (None, 25, 25, 64)   192         conv2d_471[0][0]                 \n",
            "__________________________________________________________________________________________________\n",
            "activation_466 (Activation)     (None, 25, 25, 32)   0           batch_normalization_468[0][0]    \n",
            "__________________________________________________________________________________________________\n",
            "activation_468 (Activation)     (None, 25, 25, 32)   0           batch_normalization_470[0][0]    \n",
            "__________________________________________________________________________________________________\n",
            "activation_471 (Activation)     (None, 25, 25, 64)   0           batch_normalization_473[0][0]    \n",
            "__________________________________________________________________________________________________\n",
            "block35_9_mixed (Concatenate)   (None, 25, 25, 128)  0           activation_466[0][0]             \n",
            "                                                                 activation_468[0][0]             \n",
            "                                                                 activation_471[0][0]             \n",
            "__________________________________________________________________________________________________\n",
            "block35_9_conv (Conv2D)         (None, 25, 25, 320)  41280       block35_9_mixed[0][0]            \n",
            "__________________________________________________________________________________________________\n",
            "block35_9 (Lambda)              (None, 25, 25, 320)  0           block35_8_ac[0][0]               \n",
            "                                                                 block35_9_conv[0][0]             \n",
            "__________________________________________________________________________________________________\n",
            "block35_9_ac (Activation)       (None, 25, 25, 320)  0           block35_9[0][0]                  \n",
            "__________________________________________________________________________________________________\n",
            "conv2d_475 (Conv2D)             (None, 25, 25, 32)   10240       block35_9_ac[0][0]               \n",
            "__________________________________________________________________________________________________\n",
            "batch_normalization_477 (BatchN (None, 25, 25, 32)   96          conv2d_475[0][0]                 \n",
            "__________________________________________________________________________________________________\n",
            "activation_475 (Activation)     (None, 25, 25, 32)   0           batch_normalization_477[0][0]    \n",
            "__________________________________________________________________________________________________\n",
            "conv2d_473 (Conv2D)             (None, 25, 25, 32)   10240       block35_9_ac[0][0]               \n",
            "__________________________________________________________________________________________________\n",
            "conv2d_476 (Conv2D)             (None, 25, 25, 48)   13824       activation_475[0][0]             \n",
            "__________________________________________________________________________________________________\n",
            "batch_normalization_475 (BatchN (None, 25, 25, 32)   96          conv2d_473[0][0]                 \n",
            "__________________________________________________________________________________________________\n",
            "batch_normalization_478 (BatchN (None, 25, 25, 48)   144         conv2d_476[0][0]                 \n",
            "__________________________________________________________________________________________________\n",
            "activation_473 (Activation)     (None, 25, 25, 32)   0           batch_normalization_475[0][0]    \n",
            "__________________________________________________________________________________________________\n",
            "activation_476 (Activation)     (None, 25, 25, 48)   0           batch_normalization_478[0][0]    \n",
            "__________________________________________________________________________________________________\n",
            "conv2d_472 (Conv2D)             (None, 25, 25, 32)   10240       block35_9_ac[0][0]               \n",
            "__________________________________________________________________________________________________\n",
            "conv2d_474 (Conv2D)             (None, 25, 25, 32)   9216        activation_473[0][0]             \n",
            "__________________________________________________________________________________________________\n",
            "conv2d_477 (Conv2D)             (None, 25, 25, 64)   27648       activation_476[0][0]             \n",
            "__________________________________________________________________________________________________\n",
            "batch_normalization_474 (BatchN (None, 25, 25, 32)   96          conv2d_472[0][0]                 \n",
            "__________________________________________________________________________________________________\n",
            "batch_normalization_476 (BatchN (None, 25, 25, 32)   96          conv2d_474[0][0]                 \n",
            "__________________________________________________________________________________________________\n",
            "batch_normalization_479 (BatchN (None, 25, 25, 64)   192         conv2d_477[0][0]                 \n",
            "__________________________________________________________________________________________________\n",
            "activation_472 (Activation)     (None, 25, 25, 32)   0           batch_normalization_474[0][0]    \n",
            "__________________________________________________________________________________________________\n",
            "activation_474 (Activation)     (None, 25, 25, 32)   0           batch_normalization_476[0][0]    \n",
            "__________________________________________________________________________________________________\n",
            "activation_477 (Activation)     (None, 25, 25, 64)   0           batch_normalization_479[0][0]    \n",
            "__________________________________________________________________________________________________\n",
            "block35_10_mixed (Concatenate)  (None, 25, 25, 128)  0           activation_472[0][0]             \n",
            "                                                                 activation_474[0][0]             \n",
            "                                                                 activation_477[0][0]             \n",
            "__________________________________________________________________________________________________\n",
            "block35_10_conv (Conv2D)        (None, 25, 25, 320)  41280       block35_10_mixed[0][0]           \n",
            "__________________________________________________________________________________________________\n",
            "block35_10 (Lambda)             (None, 25, 25, 320)  0           block35_9_ac[0][0]               \n",
            "                                                                 block35_10_conv[0][0]            \n",
            "__________________________________________________________________________________________________\n",
            "block35_10_ac (Activation)      (None, 25, 25, 320)  0           block35_10[0][0]                 \n",
            "__________________________________________________________________________________________________\n",
            "conv2d_479 (Conv2D)             (None, 25, 25, 256)  81920       block35_10_ac[0][0]              \n",
            "__________________________________________________________________________________________________\n",
            "batch_normalization_481 (BatchN (None, 25, 25, 256)  768         conv2d_479[0][0]                 \n",
            "__________________________________________________________________________________________________\n",
            "activation_479 (Activation)     (None, 25, 25, 256)  0           batch_normalization_481[0][0]    \n",
            "__________________________________________________________________________________________________\n",
            "conv2d_480 (Conv2D)             (None, 25, 25, 256)  589824      activation_479[0][0]             \n",
            "__________________________________________________________________________________________________\n",
            "batch_normalization_482 (BatchN (None, 25, 25, 256)  768         conv2d_480[0][0]                 \n",
            "__________________________________________________________________________________________________\n",
            "activation_480 (Activation)     (None, 25, 25, 256)  0           batch_normalization_482[0][0]    \n",
            "__________________________________________________________________________________________________\n",
            "conv2d_478 (Conv2D)             (None, 12, 12, 384)  1105920     block35_10_ac[0][0]              \n",
            "__________________________________________________________________________________________________\n",
            "conv2d_481 (Conv2D)             (None, 12, 12, 384)  884736      activation_480[0][0]             \n",
            "__________________________________________________________________________________________________\n",
            "batch_normalization_480 (BatchN (None, 12, 12, 384)  1152        conv2d_478[0][0]                 \n",
            "__________________________________________________________________________________________________\n",
            "batch_normalization_483 (BatchN (None, 12, 12, 384)  1152        conv2d_481[0][0]                 \n",
            "__________________________________________________________________________________________________\n",
            "activation_478 (Activation)     (None, 12, 12, 384)  0           batch_normalization_480[0][0]    \n",
            "__________________________________________________________________________________________________\n",
            "activation_481 (Activation)     (None, 12, 12, 384)  0           batch_normalization_483[0][0]    \n",
            "__________________________________________________________________________________________________\n",
            "max_pooling2d_10 (MaxPooling2D) (None, 12, 12, 320)  0           block35_10_ac[0][0]              \n",
            "__________________________________________________________________________________________________\n",
            "mixed_6a (Concatenate)          (None, 12, 12, 1088) 0           activation_478[0][0]             \n",
            "                                                                 activation_481[0][0]             \n",
            "                                                                 max_pooling2d_10[0][0]           \n",
            "__________________________________________________________________________________________________\n",
            "conv2d_483 (Conv2D)             (None, 12, 12, 128)  139264      mixed_6a[0][0]                   \n",
            "__________________________________________________________________________________________________\n",
            "batch_normalization_485 (BatchN (None, 12, 12, 128)  384         conv2d_483[0][0]                 \n",
            "__________________________________________________________________________________________________\n",
            "activation_483 (Activation)     (None, 12, 12, 128)  0           batch_normalization_485[0][0]    \n",
            "__________________________________________________________________________________________________\n",
            "conv2d_484 (Conv2D)             (None, 12, 12, 160)  143360      activation_483[0][0]             \n",
            "__________________________________________________________________________________________________\n",
            "batch_normalization_486 (BatchN (None, 12, 12, 160)  480         conv2d_484[0][0]                 \n",
            "__________________________________________________________________________________________________\n",
            "activation_484 (Activation)     (None, 12, 12, 160)  0           batch_normalization_486[0][0]    \n",
            "__________________________________________________________________________________________________\n",
            "conv2d_482 (Conv2D)             (None, 12, 12, 192)  208896      mixed_6a[0][0]                   \n",
            "__________________________________________________________________________________________________\n",
            "conv2d_485 (Conv2D)             (None, 12, 12, 192)  215040      activation_484[0][0]             \n",
            "__________________________________________________________________________________________________\n",
            "batch_normalization_484 (BatchN (None, 12, 12, 192)  576         conv2d_482[0][0]                 \n",
            "__________________________________________________________________________________________________\n",
            "batch_normalization_487 (BatchN (None, 12, 12, 192)  576         conv2d_485[0][0]                 \n",
            "__________________________________________________________________________________________________\n",
            "activation_482 (Activation)     (None, 12, 12, 192)  0           batch_normalization_484[0][0]    \n",
            "__________________________________________________________________________________________________\n",
            "activation_485 (Activation)     (None, 12, 12, 192)  0           batch_normalization_487[0][0]    \n",
            "__________________________________________________________________________________________________\n",
            "block17_1_mixed (Concatenate)   (None, 12, 12, 384)  0           activation_482[0][0]             \n",
            "                                                                 activation_485[0][0]             \n",
            "__________________________________________________________________________________________________\n",
            "block17_1_conv (Conv2D)         (None, 12, 12, 1088) 418880      block17_1_mixed[0][0]            \n",
            "__________________________________________________________________________________________________\n",
            "block17_1 (Lambda)              (None, 12, 12, 1088) 0           mixed_6a[0][0]                   \n",
            "                                                                 block17_1_conv[0][0]             \n",
            "__________________________________________________________________________________________________\n",
            "block17_1_ac (Activation)       (None, 12, 12, 1088) 0           block17_1[0][0]                  \n",
            "__________________________________________________________________________________________________\n",
            "conv2d_487 (Conv2D)             (None, 12, 12, 128)  139264      block17_1_ac[0][0]               \n",
            "__________________________________________________________________________________________________\n",
            "batch_normalization_489 (BatchN (None, 12, 12, 128)  384         conv2d_487[0][0]                 \n",
            "__________________________________________________________________________________________________\n",
            "activation_487 (Activation)     (None, 12, 12, 128)  0           batch_normalization_489[0][0]    \n",
            "__________________________________________________________________________________________________\n",
            "conv2d_488 (Conv2D)             (None, 12, 12, 160)  143360      activation_487[0][0]             \n",
            "__________________________________________________________________________________________________\n",
            "batch_normalization_490 (BatchN (None, 12, 12, 160)  480         conv2d_488[0][0]                 \n",
            "__________________________________________________________________________________________________\n",
            "activation_488 (Activation)     (None, 12, 12, 160)  0           batch_normalization_490[0][0]    \n",
            "__________________________________________________________________________________________________\n",
            "conv2d_486 (Conv2D)             (None, 12, 12, 192)  208896      block17_1_ac[0][0]               \n",
            "__________________________________________________________________________________________________\n",
            "conv2d_489 (Conv2D)             (None, 12, 12, 192)  215040      activation_488[0][0]             \n",
            "__________________________________________________________________________________________________\n",
            "batch_normalization_488 (BatchN (None, 12, 12, 192)  576         conv2d_486[0][0]                 \n",
            "__________________________________________________________________________________________________\n",
            "batch_normalization_491 (BatchN (None, 12, 12, 192)  576         conv2d_489[0][0]                 \n",
            "__________________________________________________________________________________________________\n",
            "activation_486 (Activation)     (None, 12, 12, 192)  0           batch_normalization_488[0][0]    \n",
            "__________________________________________________________________________________________________\n",
            "activation_489 (Activation)     (None, 12, 12, 192)  0           batch_normalization_491[0][0]    \n",
            "__________________________________________________________________________________________________\n",
            "block17_2_mixed (Concatenate)   (None, 12, 12, 384)  0           activation_486[0][0]             \n",
            "                                                                 activation_489[0][0]             \n",
            "__________________________________________________________________________________________________\n",
            "block17_2_conv (Conv2D)         (None, 12, 12, 1088) 418880      block17_2_mixed[0][0]            \n",
            "__________________________________________________________________________________________________\n",
            "block17_2 (Lambda)              (None, 12, 12, 1088) 0           block17_1_ac[0][0]               \n",
            "                                                                 block17_2_conv[0][0]             \n",
            "__________________________________________________________________________________________________\n",
            "block17_2_ac (Activation)       (None, 12, 12, 1088) 0           block17_2[0][0]                  \n",
            "__________________________________________________________________________________________________\n",
            "conv2d_491 (Conv2D)             (None, 12, 12, 128)  139264      block17_2_ac[0][0]               \n",
            "__________________________________________________________________________________________________\n",
            "batch_normalization_493 (BatchN (None, 12, 12, 128)  384         conv2d_491[0][0]                 \n",
            "__________________________________________________________________________________________________\n",
            "activation_491 (Activation)     (None, 12, 12, 128)  0           batch_normalization_493[0][0]    \n",
            "__________________________________________________________________________________________________\n",
            "conv2d_492 (Conv2D)             (None, 12, 12, 160)  143360      activation_491[0][0]             \n",
            "__________________________________________________________________________________________________\n",
            "batch_normalization_494 (BatchN (None, 12, 12, 160)  480         conv2d_492[0][0]                 \n",
            "__________________________________________________________________________________________________\n",
            "activation_492 (Activation)     (None, 12, 12, 160)  0           batch_normalization_494[0][0]    \n",
            "__________________________________________________________________________________________________\n",
            "conv2d_490 (Conv2D)             (None, 12, 12, 192)  208896      block17_2_ac[0][0]               \n",
            "__________________________________________________________________________________________________\n",
            "conv2d_493 (Conv2D)             (None, 12, 12, 192)  215040      activation_492[0][0]             \n",
            "__________________________________________________________________________________________________\n",
            "batch_normalization_492 (BatchN (None, 12, 12, 192)  576         conv2d_490[0][0]                 \n",
            "__________________________________________________________________________________________________\n",
            "batch_normalization_495 (BatchN (None, 12, 12, 192)  576         conv2d_493[0][0]                 \n",
            "__________________________________________________________________________________________________\n",
            "activation_490 (Activation)     (None, 12, 12, 192)  0           batch_normalization_492[0][0]    \n",
            "__________________________________________________________________________________________________\n",
            "activation_493 (Activation)     (None, 12, 12, 192)  0           batch_normalization_495[0][0]    \n",
            "__________________________________________________________________________________________________\n",
            "block17_3_mixed (Concatenate)   (None, 12, 12, 384)  0           activation_490[0][0]             \n",
            "                                                                 activation_493[0][0]             \n",
            "__________________________________________________________________________________________________\n",
            "block17_3_conv (Conv2D)         (None, 12, 12, 1088) 418880      block17_3_mixed[0][0]            \n",
            "__________________________________________________________________________________________________\n",
            "block17_3 (Lambda)              (None, 12, 12, 1088) 0           block17_2_ac[0][0]               \n",
            "                                                                 block17_3_conv[0][0]             \n",
            "__________________________________________________________________________________________________\n",
            "block17_3_ac (Activation)       (None, 12, 12, 1088) 0           block17_3[0][0]                  \n",
            "__________________________________________________________________________________________________\n",
            "conv2d_495 (Conv2D)             (None, 12, 12, 128)  139264      block17_3_ac[0][0]               \n",
            "__________________________________________________________________________________________________\n",
            "batch_normalization_497 (BatchN (None, 12, 12, 128)  384         conv2d_495[0][0]                 \n",
            "__________________________________________________________________________________________________\n",
            "activation_495 (Activation)     (None, 12, 12, 128)  0           batch_normalization_497[0][0]    \n",
            "__________________________________________________________________________________________________\n",
            "conv2d_496 (Conv2D)             (None, 12, 12, 160)  143360      activation_495[0][0]             \n",
            "__________________________________________________________________________________________________\n",
            "batch_normalization_498 (BatchN (None, 12, 12, 160)  480         conv2d_496[0][0]                 \n",
            "__________________________________________________________________________________________________\n",
            "activation_496 (Activation)     (None, 12, 12, 160)  0           batch_normalization_498[0][0]    \n",
            "__________________________________________________________________________________________________\n",
            "conv2d_494 (Conv2D)             (None, 12, 12, 192)  208896      block17_3_ac[0][0]               \n",
            "__________________________________________________________________________________________________\n",
            "conv2d_497 (Conv2D)             (None, 12, 12, 192)  215040      activation_496[0][0]             \n",
            "__________________________________________________________________________________________________\n",
            "batch_normalization_496 (BatchN (None, 12, 12, 192)  576         conv2d_494[0][0]                 \n",
            "__________________________________________________________________________________________________\n",
            "batch_normalization_499 (BatchN (None, 12, 12, 192)  576         conv2d_497[0][0]                 \n",
            "__________________________________________________________________________________________________\n",
            "activation_494 (Activation)     (None, 12, 12, 192)  0           batch_normalization_496[0][0]    \n",
            "__________________________________________________________________________________________________\n",
            "activation_497 (Activation)     (None, 12, 12, 192)  0           batch_normalization_499[0][0]    \n",
            "__________________________________________________________________________________________________\n",
            "block17_4_mixed (Concatenate)   (None, 12, 12, 384)  0           activation_494[0][0]             \n",
            "                                                                 activation_497[0][0]             \n",
            "__________________________________________________________________________________________________\n",
            "block17_4_conv (Conv2D)         (None, 12, 12, 1088) 418880      block17_4_mixed[0][0]            \n",
            "__________________________________________________________________________________________________\n",
            "block17_4 (Lambda)              (None, 12, 12, 1088) 0           block17_3_ac[0][0]               \n",
            "                                                                 block17_4_conv[0][0]             \n",
            "__________________________________________________________________________________________________\n",
            "block17_4_ac (Activation)       (None, 12, 12, 1088) 0           block17_4[0][0]                  \n",
            "__________________________________________________________________________________________________\n",
            "conv2d_499 (Conv2D)             (None, 12, 12, 128)  139264      block17_4_ac[0][0]               \n",
            "__________________________________________________________________________________________________\n",
            "batch_normalization_501 (BatchN (None, 12, 12, 128)  384         conv2d_499[0][0]                 \n",
            "__________________________________________________________________________________________________\n",
            "activation_499 (Activation)     (None, 12, 12, 128)  0           batch_normalization_501[0][0]    \n",
            "__________________________________________________________________________________________________\n",
            "conv2d_500 (Conv2D)             (None, 12, 12, 160)  143360      activation_499[0][0]             \n",
            "__________________________________________________________________________________________________\n",
            "batch_normalization_502 (BatchN (None, 12, 12, 160)  480         conv2d_500[0][0]                 \n",
            "__________________________________________________________________________________________________\n",
            "activation_500 (Activation)     (None, 12, 12, 160)  0           batch_normalization_502[0][0]    \n",
            "__________________________________________________________________________________________________\n",
            "conv2d_498 (Conv2D)             (None, 12, 12, 192)  208896      block17_4_ac[0][0]               \n",
            "__________________________________________________________________________________________________\n",
            "conv2d_501 (Conv2D)             (None, 12, 12, 192)  215040      activation_500[0][0]             \n",
            "__________________________________________________________________________________________________\n",
            "batch_normalization_500 (BatchN (None, 12, 12, 192)  576         conv2d_498[0][0]                 \n",
            "__________________________________________________________________________________________________\n",
            "batch_normalization_503 (BatchN (None, 12, 12, 192)  576         conv2d_501[0][0]                 \n",
            "__________________________________________________________________________________________________\n",
            "activation_498 (Activation)     (None, 12, 12, 192)  0           batch_normalization_500[0][0]    \n",
            "__________________________________________________________________________________________________\n",
            "activation_501 (Activation)     (None, 12, 12, 192)  0           batch_normalization_503[0][0]    \n",
            "__________________________________________________________________________________________________\n",
            "block17_5_mixed (Concatenate)   (None, 12, 12, 384)  0           activation_498[0][0]             \n",
            "                                                                 activation_501[0][0]             \n",
            "__________________________________________________________________________________________________\n",
            "block17_5_conv (Conv2D)         (None, 12, 12, 1088) 418880      block17_5_mixed[0][0]            \n",
            "__________________________________________________________________________________________________\n",
            "block17_5 (Lambda)              (None, 12, 12, 1088) 0           block17_4_ac[0][0]               \n",
            "                                                                 block17_5_conv[0][0]             \n",
            "__________________________________________________________________________________________________\n",
            "block17_5_ac (Activation)       (None, 12, 12, 1088) 0           block17_5[0][0]                  \n",
            "__________________________________________________________________________________________________\n",
            "conv2d_503 (Conv2D)             (None, 12, 12, 128)  139264      block17_5_ac[0][0]               \n",
            "__________________________________________________________________________________________________\n",
            "batch_normalization_505 (BatchN (None, 12, 12, 128)  384         conv2d_503[0][0]                 \n",
            "__________________________________________________________________________________________________\n",
            "activation_503 (Activation)     (None, 12, 12, 128)  0           batch_normalization_505[0][0]    \n",
            "__________________________________________________________________________________________________\n",
            "conv2d_504 (Conv2D)             (None, 12, 12, 160)  143360      activation_503[0][0]             \n",
            "__________________________________________________________________________________________________\n",
            "batch_normalization_506 (BatchN (None, 12, 12, 160)  480         conv2d_504[0][0]                 \n",
            "__________________________________________________________________________________________________\n",
            "activation_504 (Activation)     (None, 12, 12, 160)  0           batch_normalization_506[0][0]    \n",
            "__________________________________________________________________________________________________\n",
            "conv2d_502 (Conv2D)             (None, 12, 12, 192)  208896      block17_5_ac[0][0]               \n",
            "__________________________________________________________________________________________________\n",
            "conv2d_505 (Conv2D)             (None, 12, 12, 192)  215040      activation_504[0][0]             \n",
            "__________________________________________________________________________________________________\n",
            "batch_normalization_504 (BatchN (None, 12, 12, 192)  576         conv2d_502[0][0]                 \n",
            "__________________________________________________________________________________________________\n",
            "batch_normalization_507 (BatchN (None, 12, 12, 192)  576         conv2d_505[0][0]                 \n",
            "__________________________________________________________________________________________________\n",
            "activation_502 (Activation)     (None, 12, 12, 192)  0           batch_normalization_504[0][0]    \n",
            "__________________________________________________________________________________________________\n",
            "activation_505 (Activation)     (None, 12, 12, 192)  0           batch_normalization_507[0][0]    \n",
            "__________________________________________________________________________________________________\n",
            "block17_6_mixed (Concatenate)   (None, 12, 12, 384)  0           activation_502[0][0]             \n",
            "                                                                 activation_505[0][0]             \n",
            "__________________________________________________________________________________________________\n",
            "block17_6_conv (Conv2D)         (None, 12, 12, 1088) 418880      block17_6_mixed[0][0]            \n",
            "__________________________________________________________________________________________________\n",
            "block17_6 (Lambda)              (None, 12, 12, 1088) 0           block17_5_ac[0][0]               \n",
            "                                                                 block17_6_conv[0][0]             \n",
            "__________________________________________________________________________________________________\n",
            "block17_6_ac (Activation)       (None, 12, 12, 1088) 0           block17_6[0][0]                  \n",
            "__________________________________________________________________________________________________\n",
            "conv2d_507 (Conv2D)             (None, 12, 12, 128)  139264      block17_6_ac[0][0]               \n",
            "__________________________________________________________________________________________________\n",
            "batch_normalization_509 (BatchN (None, 12, 12, 128)  384         conv2d_507[0][0]                 \n",
            "__________________________________________________________________________________________________\n",
            "activation_507 (Activation)     (None, 12, 12, 128)  0           batch_normalization_509[0][0]    \n",
            "__________________________________________________________________________________________________\n",
            "conv2d_508 (Conv2D)             (None, 12, 12, 160)  143360      activation_507[0][0]             \n",
            "__________________________________________________________________________________________________\n",
            "batch_normalization_510 (BatchN (None, 12, 12, 160)  480         conv2d_508[0][0]                 \n",
            "__________________________________________________________________________________________________\n",
            "activation_508 (Activation)     (None, 12, 12, 160)  0           batch_normalization_510[0][0]    \n",
            "__________________________________________________________________________________________________\n",
            "conv2d_506 (Conv2D)             (None, 12, 12, 192)  208896      block17_6_ac[0][0]               \n",
            "__________________________________________________________________________________________________\n",
            "conv2d_509 (Conv2D)             (None, 12, 12, 192)  215040      activation_508[0][0]             \n",
            "__________________________________________________________________________________________________\n",
            "batch_normalization_508 (BatchN (None, 12, 12, 192)  576         conv2d_506[0][0]                 \n",
            "__________________________________________________________________________________________________\n",
            "batch_normalization_511 (BatchN (None, 12, 12, 192)  576         conv2d_509[0][0]                 \n",
            "__________________________________________________________________________________________________\n",
            "activation_506 (Activation)     (None, 12, 12, 192)  0           batch_normalization_508[0][0]    \n",
            "__________________________________________________________________________________________________\n",
            "activation_509 (Activation)     (None, 12, 12, 192)  0           batch_normalization_511[0][0]    \n",
            "__________________________________________________________________________________________________\n",
            "block17_7_mixed (Concatenate)   (None, 12, 12, 384)  0           activation_506[0][0]             \n",
            "                                                                 activation_509[0][0]             \n",
            "__________________________________________________________________________________________________\n",
            "block17_7_conv (Conv2D)         (None, 12, 12, 1088) 418880      block17_7_mixed[0][0]            \n",
            "__________________________________________________________________________________________________\n",
            "block17_7 (Lambda)              (None, 12, 12, 1088) 0           block17_6_ac[0][0]               \n",
            "                                                                 block17_7_conv[0][0]             \n",
            "__________________________________________________________________________________________________\n",
            "block17_7_ac (Activation)       (None, 12, 12, 1088) 0           block17_7[0][0]                  \n",
            "__________________________________________________________________________________________________\n",
            "conv2d_511 (Conv2D)             (None, 12, 12, 128)  139264      block17_7_ac[0][0]               \n",
            "__________________________________________________________________________________________________\n",
            "batch_normalization_513 (BatchN (None, 12, 12, 128)  384         conv2d_511[0][0]                 \n",
            "__________________________________________________________________________________________________\n",
            "activation_511 (Activation)     (None, 12, 12, 128)  0           batch_normalization_513[0][0]    \n",
            "__________________________________________________________________________________________________\n",
            "conv2d_512 (Conv2D)             (None, 12, 12, 160)  143360      activation_511[0][0]             \n",
            "__________________________________________________________________________________________________\n",
            "batch_normalization_514 (BatchN (None, 12, 12, 160)  480         conv2d_512[0][0]                 \n",
            "__________________________________________________________________________________________________\n",
            "activation_512 (Activation)     (None, 12, 12, 160)  0           batch_normalization_514[0][0]    \n",
            "__________________________________________________________________________________________________\n",
            "conv2d_510 (Conv2D)             (None, 12, 12, 192)  208896      block17_7_ac[0][0]               \n",
            "__________________________________________________________________________________________________\n",
            "conv2d_513 (Conv2D)             (None, 12, 12, 192)  215040      activation_512[0][0]             \n",
            "__________________________________________________________________________________________________\n",
            "batch_normalization_512 (BatchN (None, 12, 12, 192)  576         conv2d_510[0][0]                 \n",
            "__________________________________________________________________________________________________\n",
            "batch_normalization_515 (BatchN (None, 12, 12, 192)  576         conv2d_513[0][0]                 \n",
            "__________________________________________________________________________________________________\n",
            "activation_510 (Activation)     (None, 12, 12, 192)  0           batch_normalization_512[0][0]    \n",
            "__________________________________________________________________________________________________\n",
            "activation_513 (Activation)     (None, 12, 12, 192)  0           batch_normalization_515[0][0]    \n",
            "__________________________________________________________________________________________________\n",
            "block17_8_mixed (Concatenate)   (None, 12, 12, 384)  0           activation_510[0][0]             \n",
            "                                                                 activation_513[0][0]             \n",
            "__________________________________________________________________________________________________\n",
            "block17_8_conv (Conv2D)         (None, 12, 12, 1088) 418880      block17_8_mixed[0][0]            \n",
            "__________________________________________________________________________________________________\n",
            "block17_8 (Lambda)              (None, 12, 12, 1088) 0           block17_7_ac[0][0]               \n",
            "                                                                 block17_8_conv[0][0]             \n",
            "__________________________________________________________________________________________________\n",
            "block17_8_ac (Activation)       (None, 12, 12, 1088) 0           block17_8[0][0]                  \n",
            "__________________________________________________________________________________________________\n",
            "conv2d_515 (Conv2D)             (None, 12, 12, 128)  139264      block17_8_ac[0][0]               \n",
            "__________________________________________________________________________________________________\n",
            "batch_normalization_517 (BatchN (None, 12, 12, 128)  384         conv2d_515[0][0]                 \n",
            "__________________________________________________________________________________________________\n",
            "activation_515 (Activation)     (None, 12, 12, 128)  0           batch_normalization_517[0][0]    \n",
            "__________________________________________________________________________________________________\n",
            "conv2d_516 (Conv2D)             (None, 12, 12, 160)  143360      activation_515[0][0]             \n",
            "__________________________________________________________________________________________________\n",
            "batch_normalization_518 (BatchN (None, 12, 12, 160)  480         conv2d_516[0][0]                 \n",
            "__________________________________________________________________________________________________\n",
            "activation_516 (Activation)     (None, 12, 12, 160)  0           batch_normalization_518[0][0]    \n",
            "__________________________________________________________________________________________________\n",
            "conv2d_514 (Conv2D)             (None, 12, 12, 192)  208896      block17_8_ac[0][0]               \n",
            "__________________________________________________________________________________________________\n",
            "conv2d_517 (Conv2D)             (None, 12, 12, 192)  215040      activation_516[0][0]             \n",
            "__________________________________________________________________________________________________\n",
            "batch_normalization_516 (BatchN (None, 12, 12, 192)  576         conv2d_514[0][0]                 \n",
            "__________________________________________________________________________________________________\n",
            "batch_normalization_519 (BatchN (None, 12, 12, 192)  576         conv2d_517[0][0]                 \n",
            "__________________________________________________________________________________________________\n",
            "activation_514 (Activation)     (None, 12, 12, 192)  0           batch_normalization_516[0][0]    \n",
            "__________________________________________________________________________________________________\n",
            "activation_517 (Activation)     (None, 12, 12, 192)  0           batch_normalization_519[0][0]    \n",
            "__________________________________________________________________________________________________\n",
            "block17_9_mixed (Concatenate)   (None, 12, 12, 384)  0           activation_514[0][0]             \n",
            "                                                                 activation_517[0][0]             \n",
            "__________________________________________________________________________________________________\n",
            "block17_9_conv (Conv2D)         (None, 12, 12, 1088) 418880      block17_9_mixed[0][0]            \n",
            "__________________________________________________________________________________________________\n",
            "block17_9 (Lambda)              (None, 12, 12, 1088) 0           block17_8_ac[0][0]               \n",
            "                                                                 block17_9_conv[0][0]             \n",
            "__________________________________________________________________________________________________\n",
            "block17_9_ac (Activation)       (None, 12, 12, 1088) 0           block17_9[0][0]                  \n",
            "__________________________________________________________________________________________________\n",
            "conv2d_519 (Conv2D)             (None, 12, 12, 128)  139264      block17_9_ac[0][0]               \n",
            "__________________________________________________________________________________________________\n",
            "batch_normalization_521 (BatchN (None, 12, 12, 128)  384         conv2d_519[0][0]                 \n",
            "__________________________________________________________________________________________________\n",
            "activation_519 (Activation)     (None, 12, 12, 128)  0           batch_normalization_521[0][0]    \n",
            "__________________________________________________________________________________________________\n",
            "conv2d_520 (Conv2D)             (None, 12, 12, 160)  143360      activation_519[0][0]             \n",
            "__________________________________________________________________________________________________\n",
            "batch_normalization_522 (BatchN (None, 12, 12, 160)  480         conv2d_520[0][0]                 \n",
            "__________________________________________________________________________________________________\n",
            "activation_520 (Activation)     (None, 12, 12, 160)  0           batch_normalization_522[0][0]    \n",
            "__________________________________________________________________________________________________\n",
            "conv2d_518 (Conv2D)             (None, 12, 12, 192)  208896      block17_9_ac[0][0]               \n",
            "__________________________________________________________________________________________________\n",
            "conv2d_521 (Conv2D)             (None, 12, 12, 192)  215040      activation_520[0][0]             \n",
            "__________________________________________________________________________________________________\n",
            "batch_normalization_520 (BatchN (None, 12, 12, 192)  576         conv2d_518[0][0]                 \n",
            "__________________________________________________________________________________________________\n",
            "batch_normalization_523 (BatchN (None, 12, 12, 192)  576         conv2d_521[0][0]                 \n",
            "__________________________________________________________________________________________________\n",
            "activation_518 (Activation)     (None, 12, 12, 192)  0           batch_normalization_520[0][0]    \n",
            "__________________________________________________________________________________________________\n",
            "activation_521 (Activation)     (None, 12, 12, 192)  0           batch_normalization_523[0][0]    \n",
            "__________________________________________________________________________________________________\n",
            "block17_10_mixed (Concatenate)  (None, 12, 12, 384)  0           activation_518[0][0]             \n",
            "                                                                 activation_521[0][0]             \n",
            "__________________________________________________________________________________________________\n",
            "block17_10_conv (Conv2D)        (None, 12, 12, 1088) 418880      block17_10_mixed[0][0]           \n",
            "__________________________________________________________________________________________________\n",
            "block17_10 (Lambda)             (None, 12, 12, 1088) 0           block17_9_ac[0][0]               \n",
            "                                                                 block17_10_conv[0][0]            \n",
            "__________________________________________________________________________________________________\n",
            "block17_10_ac (Activation)      (None, 12, 12, 1088) 0           block17_10[0][0]                 \n",
            "__________________________________________________________________________________________________\n",
            "conv2d_523 (Conv2D)             (None, 12, 12, 128)  139264      block17_10_ac[0][0]              \n",
            "__________________________________________________________________________________________________\n",
            "batch_normalization_525 (BatchN (None, 12, 12, 128)  384         conv2d_523[0][0]                 \n",
            "__________________________________________________________________________________________________\n",
            "activation_523 (Activation)     (None, 12, 12, 128)  0           batch_normalization_525[0][0]    \n",
            "__________________________________________________________________________________________________\n",
            "conv2d_524 (Conv2D)             (None, 12, 12, 160)  143360      activation_523[0][0]             \n",
            "__________________________________________________________________________________________________\n",
            "batch_normalization_526 (BatchN (None, 12, 12, 160)  480         conv2d_524[0][0]                 \n",
            "__________________________________________________________________________________________________\n",
            "activation_524 (Activation)     (None, 12, 12, 160)  0           batch_normalization_526[0][0]    \n",
            "__________________________________________________________________________________________________\n",
            "conv2d_522 (Conv2D)             (None, 12, 12, 192)  208896      block17_10_ac[0][0]              \n",
            "__________________________________________________________________________________________________\n",
            "conv2d_525 (Conv2D)             (None, 12, 12, 192)  215040      activation_524[0][0]             \n",
            "__________________________________________________________________________________________________\n",
            "batch_normalization_524 (BatchN (None, 12, 12, 192)  576         conv2d_522[0][0]                 \n",
            "__________________________________________________________________________________________________\n",
            "batch_normalization_527 (BatchN (None, 12, 12, 192)  576         conv2d_525[0][0]                 \n",
            "__________________________________________________________________________________________________\n",
            "activation_522 (Activation)     (None, 12, 12, 192)  0           batch_normalization_524[0][0]    \n",
            "__________________________________________________________________________________________________\n",
            "activation_525 (Activation)     (None, 12, 12, 192)  0           batch_normalization_527[0][0]    \n",
            "__________________________________________________________________________________________________\n",
            "block17_11_mixed (Concatenate)  (None, 12, 12, 384)  0           activation_522[0][0]             \n",
            "                                                                 activation_525[0][0]             \n",
            "__________________________________________________________________________________________________\n",
            "block17_11_conv (Conv2D)        (None, 12, 12, 1088) 418880      block17_11_mixed[0][0]           \n",
            "__________________________________________________________________________________________________\n",
            "block17_11 (Lambda)             (None, 12, 12, 1088) 0           block17_10_ac[0][0]              \n",
            "                                                                 block17_11_conv[0][0]            \n",
            "__________________________________________________________________________________________________\n",
            "block17_11_ac (Activation)      (None, 12, 12, 1088) 0           block17_11[0][0]                 \n",
            "__________________________________________________________________________________________________\n",
            "conv2d_527 (Conv2D)             (None, 12, 12, 128)  139264      block17_11_ac[0][0]              \n",
            "__________________________________________________________________________________________________\n",
            "batch_normalization_529 (BatchN (None, 12, 12, 128)  384         conv2d_527[0][0]                 \n",
            "__________________________________________________________________________________________________\n",
            "activation_527 (Activation)     (None, 12, 12, 128)  0           batch_normalization_529[0][0]    \n",
            "__________________________________________________________________________________________________\n",
            "conv2d_528 (Conv2D)             (None, 12, 12, 160)  143360      activation_527[0][0]             \n",
            "__________________________________________________________________________________________________\n",
            "batch_normalization_530 (BatchN (None, 12, 12, 160)  480         conv2d_528[0][0]                 \n",
            "__________________________________________________________________________________________________\n",
            "activation_528 (Activation)     (None, 12, 12, 160)  0           batch_normalization_530[0][0]    \n",
            "__________________________________________________________________________________________________\n",
            "conv2d_526 (Conv2D)             (None, 12, 12, 192)  208896      block17_11_ac[0][0]              \n",
            "__________________________________________________________________________________________________\n",
            "conv2d_529 (Conv2D)             (None, 12, 12, 192)  215040      activation_528[0][0]             \n",
            "__________________________________________________________________________________________________\n",
            "batch_normalization_528 (BatchN (None, 12, 12, 192)  576         conv2d_526[0][0]                 \n",
            "__________________________________________________________________________________________________\n",
            "batch_normalization_531 (BatchN (None, 12, 12, 192)  576         conv2d_529[0][0]                 \n",
            "__________________________________________________________________________________________________\n",
            "activation_526 (Activation)     (None, 12, 12, 192)  0           batch_normalization_528[0][0]    \n",
            "__________________________________________________________________________________________________\n",
            "activation_529 (Activation)     (None, 12, 12, 192)  0           batch_normalization_531[0][0]    \n",
            "__________________________________________________________________________________________________\n",
            "block17_12_mixed (Concatenate)  (None, 12, 12, 384)  0           activation_526[0][0]             \n",
            "                                                                 activation_529[0][0]             \n",
            "__________________________________________________________________________________________________\n",
            "block17_12_conv (Conv2D)        (None, 12, 12, 1088) 418880      block17_12_mixed[0][0]           \n",
            "__________________________________________________________________________________________________\n",
            "block17_12 (Lambda)             (None, 12, 12, 1088) 0           block17_11_ac[0][0]              \n",
            "                                                                 block17_12_conv[0][0]            \n",
            "__________________________________________________________________________________________________\n",
            "block17_12_ac (Activation)      (None, 12, 12, 1088) 0           block17_12[0][0]                 \n",
            "__________________________________________________________________________________________________\n",
            "conv2d_531 (Conv2D)             (None, 12, 12, 128)  139264      block17_12_ac[0][0]              \n",
            "__________________________________________________________________________________________________\n",
            "batch_normalization_533 (BatchN (None, 12, 12, 128)  384         conv2d_531[0][0]                 \n",
            "__________________________________________________________________________________________________\n",
            "activation_531 (Activation)     (None, 12, 12, 128)  0           batch_normalization_533[0][0]    \n",
            "__________________________________________________________________________________________________\n",
            "conv2d_532 (Conv2D)             (None, 12, 12, 160)  143360      activation_531[0][0]             \n",
            "__________________________________________________________________________________________________\n",
            "batch_normalization_534 (BatchN (None, 12, 12, 160)  480         conv2d_532[0][0]                 \n",
            "__________________________________________________________________________________________________\n",
            "activation_532 (Activation)     (None, 12, 12, 160)  0           batch_normalization_534[0][0]    \n",
            "__________________________________________________________________________________________________\n",
            "conv2d_530 (Conv2D)             (None, 12, 12, 192)  208896      block17_12_ac[0][0]              \n",
            "__________________________________________________________________________________________________\n",
            "conv2d_533 (Conv2D)             (None, 12, 12, 192)  215040      activation_532[0][0]             \n",
            "__________________________________________________________________________________________________\n",
            "batch_normalization_532 (BatchN (None, 12, 12, 192)  576         conv2d_530[0][0]                 \n",
            "__________________________________________________________________________________________________\n",
            "batch_normalization_535 (BatchN (None, 12, 12, 192)  576         conv2d_533[0][0]                 \n",
            "__________________________________________________________________________________________________\n",
            "activation_530 (Activation)     (None, 12, 12, 192)  0           batch_normalization_532[0][0]    \n",
            "__________________________________________________________________________________________________\n",
            "activation_533 (Activation)     (None, 12, 12, 192)  0           batch_normalization_535[0][0]    \n",
            "__________________________________________________________________________________________________\n",
            "block17_13_mixed (Concatenate)  (None, 12, 12, 384)  0           activation_530[0][0]             \n",
            "                                                                 activation_533[0][0]             \n",
            "__________________________________________________________________________________________________\n",
            "block17_13_conv (Conv2D)        (None, 12, 12, 1088) 418880      block17_13_mixed[0][0]           \n",
            "__________________________________________________________________________________________________\n",
            "block17_13 (Lambda)             (None, 12, 12, 1088) 0           block17_12_ac[0][0]              \n",
            "                                                                 block17_13_conv[0][0]            \n",
            "__________________________________________________________________________________________________\n",
            "block17_13_ac (Activation)      (None, 12, 12, 1088) 0           block17_13[0][0]                 \n",
            "__________________________________________________________________________________________________\n",
            "conv2d_535 (Conv2D)             (None, 12, 12, 128)  139264      block17_13_ac[0][0]              \n",
            "__________________________________________________________________________________________________\n",
            "batch_normalization_537 (BatchN (None, 12, 12, 128)  384         conv2d_535[0][0]                 \n",
            "__________________________________________________________________________________________________\n",
            "activation_535 (Activation)     (None, 12, 12, 128)  0           batch_normalization_537[0][0]    \n",
            "__________________________________________________________________________________________________\n",
            "conv2d_536 (Conv2D)             (None, 12, 12, 160)  143360      activation_535[0][0]             \n",
            "__________________________________________________________________________________________________\n",
            "batch_normalization_538 (BatchN (None, 12, 12, 160)  480         conv2d_536[0][0]                 \n",
            "__________________________________________________________________________________________________\n",
            "activation_536 (Activation)     (None, 12, 12, 160)  0           batch_normalization_538[0][0]    \n",
            "__________________________________________________________________________________________________\n",
            "conv2d_534 (Conv2D)             (None, 12, 12, 192)  208896      block17_13_ac[0][0]              \n",
            "__________________________________________________________________________________________________\n",
            "conv2d_537 (Conv2D)             (None, 12, 12, 192)  215040      activation_536[0][0]             \n",
            "__________________________________________________________________________________________________\n",
            "batch_normalization_536 (BatchN (None, 12, 12, 192)  576         conv2d_534[0][0]                 \n",
            "__________________________________________________________________________________________________\n",
            "batch_normalization_539 (BatchN (None, 12, 12, 192)  576         conv2d_537[0][0]                 \n",
            "__________________________________________________________________________________________________\n",
            "activation_534 (Activation)     (None, 12, 12, 192)  0           batch_normalization_536[0][0]    \n",
            "__________________________________________________________________________________________________\n",
            "activation_537 (Activation)     (None, 12, 12, 192)  0           batch_normalization_539[0][0]    \n",
            "__________________________________________________________________________________________________\n",
            "block17_14_mixed (Concatenate)  (None, 12, 12, 384)  0           activation_534[0][0]             \n",
            "                                                                 activation_537[0][0]             \n",
            "__________________________________________________________________________________________________\n",
            "block17_14_conv (Conv2D)        (None, 12, 12, 1088) 418880      block17_14_mixed[0][0]           \n",
            "__________________________________________________________________________________________________\n",
            "block17_14 (Lambda)             (None, 12, 12, 1088) 0           block17_13_ac[0][0]              \n",
            "                                                                 block17_14_conv[0][0]            \n",
            "__________________________________________________________________________________________________\n",
            "block17_14_ac (Activation)      (None, 12, 12, 1088) 0           block17_14[0][0]                 \n",
            "__________________________________________________________________________________________________\n",
            "conv2d_539 (Conv2D)             (None, 12, 12, 128)  139264      block17_14_ac[0][0]              \n",
            "__________________________________________________________________________________________________\n",
            "batch_normalization_541 (BatchN (None, 12, 12, 128)  384         conv2d_539[0][0]                 \n",
            "__________________________________________________________________________________________________\n",
            "activation_539 (Activation)     (None, 12, 12, 128)  0           batch_normalization_541[0][0]    \n",
            "__________________________________________________________________________________________________\n",
            "conv2d_540 (Conv2D)             (None, 12, 12, 160)  143360      activation_539[0][0]             \n",
            "__________________________________________________________________________________________________\n",
            "batch_normalization_542 (BatchN (None, 12, 12, 160)  480         conv2d_540[0][0]                 \n",
            "__________________________________________________________________________________________________\n",
            "activation_540 (Activation)     (None, 12, 12, 160)  0           batch_normalization_542[0][0]    \n",
            "__________________________________________________________________________________________________\n",
            "conv2d_538 (Conv2D)             (None, 12, 12, 192)  208896      block17_14_ac[0][0]              \n",
            "__________________________________________________________________________________________________\n",
            "conv2d_541 (Conv2D)             (None, 12, 12, 192)  215040      activation_540[0][0]             \n",
            "__________________________________________________________________________________________________\n",
            "batch_normalization_540 (BatchN (None, 12, 12, 192)  576         conv2d_538[0][0]                 \n",
            "__________________________________________________________________________________________________\n",
            "batch_normalization_543 (BatchN (None, 12, 12, 192)  576         conv2d_541[0][0]                 \n",
            "__________________________________________________________________________________________________\n",
            "activation_538 (Activation)     (None, 12, 12, 192)  0           batch_normalization_540[0][0]    \n",
            "__________________________________________________________________________________________________\n",
            "activation_541 (Activation)     (None, 12, 12, 192)  0           batch_normalization_543[0][0]    \n",
            "__________________________________________________________________________________________________\n",
            "block17_15_mixed (Concatenate)  (None, 12, 12, 384)  0           activation_538[0][0]             \n",
            "                                                                 activation_541[0][0]             \n",
            "__________________________________________________________________________________________________\n",
            "block17_15_conv (Conv2D)        (None, 12, 12, 1088) 418880      block17_15_mixed[0][0]           \n",
            "__________________________________________________________________________________________________\n",
            "block17_15 (Lambda)             (None, 12, 12, 1088) 0           block17_14_ac[0][0]              \n",
            "                                                                 block17_15_conv[0][0]            \n",
            "__________________________________________________________________________________________________\n",
            "block17_15_ac (Activation)      (None, 12, 12, 1088) 0           block17_15[0][0]                 \n",
            "__________________________________________________________________________________________________\n",
            "conv2d_543 (Conv2D)             (None, 12, 12, 128)  139264      block17_15_ac[0][0]              \n",
            "__________________________________________________________________________________________________\n",
            "batch_normalization_545 (BatchN (None, 12, 12, 128)  384         conv2d_543[0][0]                 \n",
            "__________________________________________________________________________________________________\n",
            "activation_543 (Activation)     (None, 12, 12, 128)  0           batch_normalization_545[0][0]    \n",
            "__________________________________________________________________________________________________\n",
            "conv2d_544 (Conv2D)             (None, 12, 12, 160)  143360      activation_543[0][0]             \n",
            "__________________________________________________________________________________________________\n",
            "batch_normalization_546 (BatchN (None, 12, 12, 160)  480         conv2d_544[0][0]                 \n",
            "__________________________________________________________________________________________________\n",
            "activation_544 (Activation)     (None, 12, 12, 160)  0           batch_normalization_546[0][0]    \n",
            "__________________________________________________________________________________________________\n",
            "conv2d_542 (Conv2D)             (None, 12, 12, 192)  208896      block17_15_ac[0][0]              \n",
            "__________________________________________________________________________________________________\n",
            "conv2d_545 (Conv2D)             (None, 12, 12, 192)  215040      activation_544[0][0]             \n",
            "__________________________________________________________________________________________________\n",
            "batch_normalization_544 (BatchN (None, 12, 12, 192)  576         conv2d_542[0][0]                 \n",
            "__________________________________________________________________________________________________\n",
            "batch_normalization_547 (BatchN (None, 12, 12, 192)  576         conv2d_545[0][0]                 \n",
            "__________________________________________________________________________________________________\n",
            "activation_542 (Activation)     (None, 12, 12, 192)  0           batch_normalization_544[0][0]    \n",
            "__________________________________________________________________________________________________\n",
            "activation_545 (Activation)     (None, 12, 12, 192)  0           batch_normalization_547[0][0]    \n",
            "__________________________________________________________________________________________________\n",
            "block17_16_mixed (Concatenate)  (None, 12, 12, 384)  0           activation_542[0][0]             \n",
            "                                                                 activation_545[0][0]             \n",
            "__________________________________________________________________________________________________\n",
            "block17_16_conv (Conv2D)        (None, 12, 12, 1088) 418880      block17_16_mixed[0][0]           \n",
            "__________________________________________________________________________________________________\n",
            "block17_16 (Lambda)             (None, 12, 12, 1088) 0           block17_15_ac[0][0]              \n",
            "                                                                 block17_16_conv[0][0]            \n",
            "__________________________________________________________________________________________________\n",
            "block17_16_ac (Activation)      (None, 12, 12, 1088) 0           block17_16[0][0]                 \n",
            "__________________________________________________________________________________________________\n",
            "conv2d_547 (Conv2D)             (None, 12, 12, 128)  139264      block17_16_ac[0][0]              \n",
            "__________________________________________________________________________________________________\n",
            "batch_normalization_549 (BatchN (None, 12, 12, 128)  384         conv2d_547[0][0]                 \n",
            "__________________________________________________________________________________________________\n",
            "activation_547 (Activation)     (None, 12, 12, 128)  0           batch_normalization_549[0][0]    \n",
            "__________________________________________________________________________________________________\n",
            "conv2d_548 (Conv2D)             (None, 12, 12, 160)  143360      activation_547[0][0]             \n",
            "__________________________________________________________________________________________________\n",
            "batch_normalization_550 (BatchN (None, 12, 12, 160)  480         conv2d_548[0][0]                 \n",
            "__________________________________________________________________________________________________\n",
            "activation_548 (Activation)     (None, 12, 12, 160)  0           batch_normalization_550[0][0]    \n",
            "__________________________________________________________________________________________________\n",
            "conv2d_546 (Conv2D)             (None, 12, 12, 192)  208896      block17_16_ac[0][0]              \n",
            "__________________________________________________________________________________________________\n",
            "conv2d_549 (Conv2D)             (None, 12, 12, 192)  215040      activation_548[0][0]             \n",
            "__________________________________________________________________________________________________\n",
            "batch_normalization_548 (BatchN (None, 12, 12, 192)  576         conv2d_546[0][0]                 \n",
            "__________________________________________________________________________________________________\n",
            "batch_normalization_551 (BatchN (None, 12, 12, 192)  576         conv2d_549[0][0]                 \n",
            "__________________________________________________________________________________________________\n",
            "activation_546 (Activation)     (None, 12, 12, 192)  0           batch_normalization_548[0][0]    \n",
            "__________________________________________________________________________________________________\n",
            "activation_549 (Activation)     (None, 12, 12, 192)  0           batch_normalization_551[0][0]    \n",
            "__________________________________________________________________________________________________\n",
            "block17_17_mixed (Concatenate)  (None, 12, 12, 384)  0           activation_546[0][0]             \n",
            "                                                                 activation_549[0][0]             \n",
            "__________________________________________________________________________________________________\n",
            "block17_17_conv (Conv2D)        (None, 12, 12, 1088) 418880      block17_17_mixed[0][0]           \n",
            "__________________________________________________________________________________________________\n",
            "block17_17 (Lambda)             (None, 12, 12, 1088) 0           block17_16_ac[0][0]              \n",
            "                                                                 block17_17_conv[0][0]            \n",
            "__________________________________________________________________________________________________\n",
            "block17_17_ac (Activation)      (None, 12, 12, 1088) 0           block17_17[0][0]                 \n",
            "__________________________________________________________________________________________________\n",
            "conv2d_551 (Conv2D)             (None, 12, 12, 128)  139264      block17_17_ac[0][0]              \n",
            "__________________________________________________________________________________________________\n",
            "batch_normalization_553 (BatchN (None, 12, 12, 128)  384         conv2d_551[0][0]                 \n",
            "__________________________________________________________________________________________________\n",
            "activation_551 (Activation)     (None, 12, 12, 128)  0           batch_normalization_553[0][0]    \n",
            "__________________________________________________________________________________________________\n",
            "conv2d_552 (Conv2D)             (None, 12, 12, 160)  143360      activation_551[0][0]             \n",
            "__________________________________________________________________________________________________\n",
            "batch_normalization_554 (BatchN (None, 12, 12, 160)  480         conv2d_552[0][0]                 \n",
            "__________________________________________________________________________________________________\n",
            "activation_552 (Activation)     (None, 12, 12, 160)  0           batch_normalization_554[0][0]    \n",
            "__________________________________________________________________________________________________\n",
            "conv2d_550 (Conv2D)             (None, 12, 12, 192)  208896      block17_17_ac[0][0]              \n",
            "__________________________________________________________________________________________________\n",
            "conv2d_553 (Conv2D)             (None, 12, 12, 192)  215040      activation_552[0][0]             \n",
            "__________________________________________________________________________________________________\n",
            "batch_normalization_552 (BatchN (None, 12, 12, 192)  576         conv2d_550[0][0]                 \n",
            "__________________________________________________________________________________________________\n",
            "batch_normalization_555 (BatchN (None, 12, 12, 192)  576         conv2d_553[0][0]                 \n",
            "__________________________________________________________________________________________________\n",
            "activation_550 (Activation)     (None, 12, 12, 192)  0           batch_normalization_552[0][0]    \n",
            "__________________________________________________________________________________________________\n",
            "activation_553 (Activation)     (None, 12, 12, 192)  0           batch_normalization_555[0][0]    \n",
            "__________________________________________________________________________________________________\n",
            "block17_18_mixed (Concatenate)  (None, 12, 12, 384)  0           activation_550[0][0]             \n",
            "                                                                 activation_553[0][0]             \n",
            "__________________________________________________________________________________________________\n",
            "block17_18_conv (Conv2D)        (None, 12, 12, 1088) 418880      block17_18_mixed[0][0]           \n",
            "__________________________________________________________________________________________________\n",
            "block17_18 (Lambda)             (None, 12, 12, 1088) 0           block17_17_ac[0][0]              \n",
            "                                                                 block17_18_conv[0][0]            \n",
            "__________________________________________________________________________________________________\n",
            "block17_18_ac (Activation)      (None, 12, 12, 1088) 0           block17_18[0][0]                 \n",
            "__________________________________________________________________________________________________\n",
            "conv2d_555 (Conv2D)             (None, 12, 12, 128)  139264      block17_18_ac[0][0]              \n",
            "__________________________________________________________________________________________________\n",
            "batch_normalization_557 (BatchN (None, 12, 12, 128)  384         conv2d_555[0][0]                 \n",
            "__________________________________________________________________________________________________\n",
            "activation_555 (Activation)     (None, 12, 12, 128)  0           batch_normalization_557[0][0]    \n",
            "__________________________________________________________________________________________________\n",
            "conv2d_556 (Conv2D)             (None, 12, 12, 160)  143360      activation_555[0][0]             \n",
            "__________________________________________________________________________________________________\n",
            "batch_normalization_558 (BatchN (None, 12, 12, 160)  480         conv2d_556[0][0]                 \n",
            "__________________________________________________________________________________________________\n",
            "activation_556 (Activation)     (None, 12, 12, 160)  0           batch_normalization_558[0][0]    \n",
            "__________________________________________________________________________________________________\n",
            "conv2d_554 (Conv2D)             (None, 12, 12, 192)  208896      block17_18_ac[0][0]              \n",
            "__________________________________________________________________________________________________\n",
            "conv2d_557 (Conv2D)             (None, 12, 12, 192)  215040      activation_556[0][0]             \n",
            "__________________________________________________________________________________________________\n",
            "batch_normalization_556 (BatchN (None, 12, 12, 192)  576         conv2d_554[0][0]                 \n",
            "__________________________________________________________________________________________________\n",
            "batch_normalization_559 (BatchN (None, 12, 12, 192)  576         conv2d_557[0][0]                 \n",
            "__________________________________________________________________________________________________\n",
            "activation_554 (Activation)     (None, 12, 12, 192)  0           batch_normalization_556[0][0]    \n",
            "__________________________________________________________________________________________________\n",
            "activation_557 (Activation)     (None, 12, 12, 192)  0           batch_normalization_559[0][0]    \n",
            "__________________________________________________________________________________________________\n",
            "block17_19_mixed (Concatenate)  (None, 12, 12, 384)  0           activation_554[0][0]             \n",
            "                                                                 activation_557[0][0]             \n",
            "__________________________________________________________________________________________________\n",
            "block17_19_conv (Conv2D)        (None, 12, 12, 1088) 418880      block17_19_mixed[0][0]           \n",
            "__________________________________________________________________________________________________\n",
            "block17_19 (Lambda)             (None, 12, 12, 1088) 0           block17_18_ac[0][0]              \n",
            "                                                                 block17_19_conv[0][0]            \n",
            "__________________________________________________________________________________________________\n",
            "block17_19_ac (Activation)      (None, 12, 12, 1088) 0           block17_19[0][0]                 \n",
            "__________________________________________________________________________________________________\n",
            "conv2d_559 (Conv2D)             (None, 12, 12, 128)  139264      block17_19_ac[0][0]              \n",
            "__________________________________________________________________________________________________\n",
            "batch_normalization_561 (BatchN (None, 12, 12, 128)  384         conv2d_559[0][0]                 \n",
            "__________________________________________________________________________________________________\n",
            "activation_559 (Activation)     (None, 12, 12, 128)  0           batch_normalization_561[0][0]    \n",
            "__________________________________________________________________________________________________\n",
            "conv2d_560 (Conv2D)             (None, 12, 12, 160)  143360      activation_559[0][0]             \n",
            "__________________________________________________________________________________________________\n",
            "batch_normalization_562 (BatchN (None, 12, 12, 160)  480         conv2d_560[0][0]                 \n",
            "__________________________________________________________________________________________________\n",
            "activation_560 (Activation)     (None, 12, 12, 160)  0           batch_normalization_562[0][0]    \n",
            "__________________________________________________________________________________________________\n",
            "conv2d_558 (Conv2D)             (None, 12, 12, 192)  208896      block17_19_ac[0][0]              \n",
            "__________________________________________________________________________________________________\n",
            "conv2d_561 (Conv2D)             (None, 12, 12, 192)  215040      activation_560[0][0]             \n",
            "__________________________________________________________________________________________________\n",
            "batch_normalization_560 (BatchN (None, 12, 12, 192)  576         conv2d_558[0][0]                 \n",
            "__________________________________________________________________________________________________\n",
            "batch_normalization_563 (BatchN (None, 12, 12, 192)  576         conv2d_561[0][0]                 \n",
            "__________________________________________________________________________________________________\n",
            "activation_558 (Activation)     (None, 12, 12, 192)  0           batch_normalization_560[0][0]    \n",
            "__________________________________________________________________________________________________\n",
            "activation_561 (Activation)     (None, 12, 12, 192)  0           batch_normalization_563[0][0]    \n",
            "__________________________________________________________________________________________________\n",
            "block17_20_mixed (Concatenate)  (None, 12, 12, 384)  0           activation_558[0][0]             \n",
            "                                                                 activation_561[0][0]             \n",
            "__________________________________________________________________________________________________\n",
            "block17_20_conv (Conv2D)        (None, 12, 12, 1088) 418880      block17_20_mixed[0][0]           \n",
            "__________________________________________________________________________________________________\n",
            "block17_20 (Lambda)             (None, 12, 12, 1088) 0           block17_19_ac[0][0]              \n",
            "                                                                 block17_20_conv[0][0]            \n",
            "__________________________________________________________________________________________________\n",
            "block17_20_ac (Activation)      (None, 12, 12, 1088) 0           block17_20[0][0]                 \n",
            "__________________________________________________________________________________________________\n",
            "conv2d_566 (Conv2D)             (None, 12, 12, 256)  278528      block17_20_ac[0][0]              \n",
            "__________________________________________________________________________________________________\n",
            "batch_normalization_568 (BatchN (None, 12, 12, 256)  768         conv2d_566[0][0]                 \n",
            "__________________________________________________________________________________________________\n",
            "activation_566 (Activation)     (None, 12, 12, 256)  0           batch_normalization_568[0][0]    \n",
            "__________________________________________________________________________________________________\n",
            "conv2d_562 (Conv2D)             (None, 12, 12, 256)  278528      block17_20_ac[0][0]              \n",
            "__________________________________________________________________________________________________\n",
            "conv2d_564 (Conv2D)             (None, 12, 12, 256)  278528      block17_20_ac[0][0]              \n",
            "__________________________________________________________________________________________________\n",
            "conv2d_567 (Conv2D)             (None, 12, 12, 288)  663552      activation_566[0][0]             \n",
            "__________________________________________________________________________________________________\n",
            "batch_normalization_564 (BatchN (None, 12, 12, 256)  768         conv2d_562[0][0]                 \n",
            "__________________________________________________________________________________________________\n",
            "batch_normalization_566 (BatchN (None, 12, 12, 256)  768         conv2d_564[0][0]                 \n",
            "__________________________________________________________________________________________________\n",
            "batch_normalization_569 (BatchN (None, 12, 12, 288)  864         conv2d_567[0][0]                 \n",
            "__________________________________________________________________________________________________\n",
            "activation_562 (Activation)     (None, 12, 12, 256)  0           batch_normalization_564[0][0]    \n",
            "__________________________________________________________________________________________________\n",
            "activation_564 (Activation)     (None, 12, 12, 256)  0           batch_normalization_566[0][0]    \n",
            "__________________________________________________________________________________________________\n",
            "activation_567 (Activation)     (None, 12, 12, 288)  0           batch_normalization_569[0][0]    \n",
            "__________________________________________________________________________________________________\n",
            "conv2d_563 (Conv2D)             (None, 5, 5, 384)    884736      activation_562[0][0]             \n",
            "__________________________________________________________________________________________________\n",
            "conv2d_565 (Conv2D)             (None, 5, 5, 288)    663552      activation_564[0][0]             \n",
            "__________________________________________________________________________________________________\n",
            "conv2d_568 (Conv2D)             (None, 5, 5, 320)    829440      activation_567[0][0]             \n",
            "__________________________________________________________________________________________________\n",
            "batch_normalization_565 (BatchN (None, 5, 5, 384)    1152        conv2d_563[0][0]                 \n",
            "__________________________________________________________________________________________________\n",
            "batch_normalization_567 (BatchN (None, 5, 5, 288)    864         conv2d_565[0][0]                 \n",
            "__________________________________________________________________________________________________\n",
            "batch_normalization_570 (BatchN (None, 5, 5, 320)    960         conv2d_568[0][0]                 \n",
            "__________________________________________________________________________________________________\n",
            "activation_563 (Activation)     (None, 5, 5, 384)    0           batch_normalization_565[0][0]    \n",
            "__________________________________________________________________________________________________\n",
            "activation_565 (Activation)     (None, 5, 5, 288)    0           batch_normalization_567[0][0]    \n",
            "__________________________________________________________________________________________________\n",
            "activation_568 (Activation)     (None, 5, 5, 320)    0           batch_normalization_570[0][0]    \n",
            "__________________________________________________________________________________________________\n",
            "max_pooling2d_11 (MaxPooling2D) (None, 5, 5, 1088)   0           block17_20_ac[0][0]              \n",
            "__________________________________________________________________________________________________\n",
            "mixed_7a (Concatenate)          (None, 5, 5, 2080)   0           activation_563[0][0]             \n",
            "                                                                 activation_565[0][0]             \n",
            "                                                                 activation_568[0][0]             \n",
            "                                                                 max_pooling2d_11[0][0]           \n",
            "__________________________________________________________________________________________________\n",
            "conv2d_570 (Conv2D)             (None, 5, 5, 192)    399360      mixed_7a[0][0]                   \n",
            "__________________________________________________________________________________________________\n",
            "batch_normalization_572 (BatchN (None, 5, 5, 192)    576         conv2d_570[0][0]                 \n",
            "__________________________________________________________________________________________________\n",
            "activation_570 (Activation)     (None, 5, 5, 192)    0           batch_normalization_572[0][0]    \n",
            "__________________________________________________________________________________________________\n",
            "conv2d_571 (Conv2D)             (None, 5, 5, 224)    129024      activation_570[0][0]             \n",
            "__________________________________________________________________________________________________\n",
            "batch_normalization_573 (BatchN (None, 5, 5, 224)    672         conv2d_571[0][0]                 \n",
            "__________________________________________________________________________________________________\n",
            "activation_571 (Activation)     (None, 5, 5, 224)    0           batch_normalization_573[0][0]    \n",
            "__________________________________________________________________________________________________\n",
            "conv2d_569 (Conv2D)             (None, 5, 5, 192)    399360      mixed_7a[0][0]                   \n",
            "__________________________________________________________________________________________________\n",
            "conv2d_572 (Conv2D)             (None, 5, 5, 256)    172032      activation_571[0][0]             \n",
            "__________________________________________________________________________________________________\n",
            "batch_normalization_571 (BatchN (None, 5, 5, 192)    576         conv2d_569[0][0]                 \n",
            "__________________________________________________________________________________________________\n",
            "batch_normalization_574 (BatchN (None, 5, 5, 256)    768         conv2d_572[0][0]                 \n",
            "__________________________________________________________________________________________________\n",
            "activation_569 (Activation)     (None, 5, 5, 192)    0           batch_normalization_571[0][0]    \n",
            "__________________________________________________________________________________________________\n",
            "activation_572 (Activation)     (None, 5, 5, 256)    0           batch_normalization_574[0][0]    \n",
            "__________________________________________________________________________________________________\n",
            "block8_1_mixed (Concatenate)    (None, 5, 5, 448)    0           activation_569[0][0]             \n",
            "                                                                 activation_572[0][0]             \n",
            "__________________________________________________________________________________________________\n",
            "block8_1_conv (Conv2D)          (None, 5, 5, 2080)   933920      block8_1_mixed[0][0]             \n",
            "__________________________________________________________________________________________________\n",
            "block8_1 (Lambda)               (None, 5, 5, 2080)   0           mixed_7a[0][0]                   \n",
            "                                                                 block8_1_conv[0][0]              \n",
            "__________________________________________________________________________________________________\n",
            "block8_1_ac (Activation)        (None, 5, 5, 2080)   0           block8_1[0][0]                   \n",
            "__________________________________________________________________________________________________\n",
            "conv2d_574 (Conv2D)             (None, 5, 5, 192)    399360      block8_1_ac[0][0]                \n",
            "__________________________________________________________________________________________________\n",
            "batch_normalization_576 (BatchN (None, 5, 5, 192)    576         conv2d_574[0][0]                 \n",
            "__________________________________________________________________________________________________\n",
            "activation_574 (Activation)     (None, 5, 5, 192)    0           batch_normalization_576[0][0]    \n",
            "__________________________________________________________________________________________________\n",
            "conv2d_575 (Conv2D)             (None, 5, 5, 224)    129024      activation_574[0][0]             \n",
            "__________________________________________________________________________________________________\n",
            "batch_normalization_577 (BatchN (None, 5, 5, 224)    672         conv2d_575[0][0]                 \n",
            "__________________________________________________________________________________________________\n",
            "activation_575 (Activation)     (None, 5, 5, 224)    0           batch_normalization_577[0][0]    \n",
            "__________________________________________________________________________________________________\n",
            "conv2d_573 (Conv2D)             (None, 5, 5, 192)    399360      block8_1_ac[0][0]                \n",
            "__________________________________________________________________________________________________\n",
            "conv2d_576 (Conv2D)             (None, 5, 5, 256)    172032      activation_575[0][0]             \n",
            "__________________________________________________________________________________________________\n",
            "batch_normalization_575 (BatchN (None, 5, 5, 192)    576         conv2d_573[0][0]                 \n",
            "__________________________________________________________________________________________________\n",
            "batch_normalization_578 (BatchN (None, 5, 5, 256)    768         conv2d_576[0][0]                 \n",
            "__________________________________________________________________________________________________\n",
            "activation_573 (Activation)     (None, 5, 5, 192)    0           batch_normalization_575[0][0]    \n",
            "__________________________________________________________________________________________________\n",
            "activation_576 (Activation)     (None, 5, 5, 256)    0           batch_normalization_578[0][0]    \n",
            "__________________________________________________________________________________________________\n",
            "block8_2_mixed (Concatenate)    (None, 5, 5, 448)    0           activation_573[0][0]             \n",
            "                                                                 activation_576[0][0]             \n",
            "__________________________________________________________________________________________________\n",
            "block8_2_conv (Conv2D)          (None, 5, 5, 2080)   933920      block8_2_mixed[0][0]             \n",
            "__________________________________________________________________________________________________\n",
            "block8_2 (Lambda)               (None, 5, 5, 2080)   0           block8_1_ac[0][0]                \n",
            "                                                                 block8_2_conv[0][0]              \n",
            "__________________________________________________________________________________________________\n",
            "block8_2_ac (Activation)        (None, 5, 5, 2080)   0           block8_2[0][0]                   \n",
            "__________________________________________________________________________________________________\n",
            "conv2d_578 (Conv2D)             (None, 5, 5, 192)    399360      block8_2_ac[0][0]                \n",
            "__________________________________________________________________________________________________\n",
            "batch_normalization_580 (BatchN (None, 5, 5, 192)    576         conv2d_578[0][0]                 \n",
            "__________________________________________________________________________________________________\n",
            "activation_578 (Activation)     (None, 5, 5, 192)    0           batch_normalization_580[0][0]    \n",
            "__________________________________________________________________________________________________\n",
            "conv2d_579 (Conv2D)             (None, 5, 5, 224)    129024      activation_578[0][0]             \n",
            "__________________________________________________________________________________________________\n",
            "batch_normalization_581 (BatchN (None, 5, 5, 224)    672         conv2d_579[0][0]                 \n",
            "__________________________________________________________________________________________________\n",
            "activation_579 (Activation)     (None, 5, 5, 224)    0           batch_normalization_581[0][0]    \n",
            "__________________________________________________________________________________________________\n",
            "conv2d_577 (Conv2D)             (None, 5, 5, 192)    399360      block8_2_ac[0][0]                \n",
            "__________________________________________________________________________________________________\n",
            "conv2d_580 (Conv2D)             (None, 5, 5, 256)    172032      activation_579[0][0]             \n",
            "__________________________________________________________________________________________________\n",
            "batch_normalization_579 (BatchN (None, 5, 5, 192)    576         conv2d_577[0][0]                 \n",
            "__________________________________________________________________________________________________\n",
            "batch_normalization_582 (BatchN (None, 5, 5, 256)    768         conv2d_580[0][0]                 \n",
            "__________________________________________________________________________________________________\n",
            "activation_577 (Activation)     (None, 5, 5, 192)    0           batch_normalization_579[0][0]    \n",
            "__________________________________________________________________________________________________\n",
            "activation_580 (Activation)     (None, 5, 5, 256)    0           batch_normalization_582[0][0]    \n",
            "__________________________________________________________________________________________________\n",
            "block8_3_mixed (Concatenate)    (None, 5, 5, 448)    0           activation_577[0][0]             \n",
            "                                                                 activation_580[0][0]             \n",
            "__________________________________________________________________________________________________\n",
            "block8_3_conv (Conv2D)          (None, 5, 5, 2080)   933920      block8_3_mixed[0][0]             \n",
            "__________________________________________________________________________________________________\n",
            "block8_3 (Lambda)               (None, 5, 5, 2080)   0           block8_2_ac[0][0]                \n",
            "                                                                 block8_3_conv[0][0]              \n",
            "__________________________________________________________________________________________________\n",
            "block8_3_ac (Activation)        (None, 5, 5, 2080)   0           block8_3[0][0]                   \n",
            "__________________________________________________________________________________________________\n",
            "conv2d_582 (Conv2D)             (None, 5, 5, 192)    399360      block8_3_ac[0][0]                \n",
            "__________________________________________________________________________________________________\n",
            "batch_normalization_584 (BatchN (None, 5, 5, 192)    576         conv2d_582[0][0]                 \n",
            "__________________________________________________________________________________________________\n",
            "activation_582 (Activation)     (None, 5, 5, 192)    0           batch_normalization_584[0][0]    \n",
            "__________________________________________________________________________________________________\n",
            "conv2d_583 (Conv2D)             (None, 5, 5, 224)    129024      activation_582[0][0]             \n",
            "__________________________________________________________________________________________________\n",
            "batch_normalization_585 (BatchN (None, 5, 5, 224)    672         conv2d_583[0][0]                 \n",
            "__________________________________________________________________________________________________\n",
            "activation_583 (Activation)     (None, 5, 5, 224)    0           batch_normalization_585[0][0]    \n",
            "__________________________________________________________________________________________________\n",
            "conv2d_581 (Conv2D)             (None, 5, 5, 192)    399360      block8_3_ac[0][0]                \n",
            "__________________________________________________________________________________________________\n",
            "conv2d_584 (Conv2D)             (None, 5, 5, 256)    172032      activation_583[0][0]             \n",
            "__________________________________________________________________________________________________\n",
            "batch_normalization_583 (BatchN (None, 5, 5, 192)    576         conv2d_581[0][0]                 \n",
            "__________________________________________________________________________________________________\n",
            "batch_normalization_586 (BatchN (None, 5, 5, 256)    768         conv2d_584[0][0]                 \n",
            "__________________________________________________________________________________________________\n",
            "activation_581 (Activation)     (None, 5, 5, 192)    0           batch_normalization_583[0][0]    \n",
            "__________________________________________________________________________________________________\n",
            "activation_584 (Activation)     (None, 5, 5, 256)    0           batch_normalization_586[0][0]    \n",
            "__________________________________________________________________________________________________\n",
            "block8_4_mixed (Concatenate)    (None, 5, 5, 448)    0           activation_581[0][0]             \n",
            "                                                                 activation_584[0][0]             \n",
            "__________________________________________________________________________________________________\n",
            "block8_4_conv (Conv2D)          (None, 5, 5, 2080)   933920      block8_4_mixed[0][0]             \n",
            "__________________________________________________________________________________________________\n",
            "block8_4 (Lambda)               (None, 5, 5, 2080)   0           block8_3_ac[0][0]                \n",
            "                                                                 block8_4_conv[0][0]              \n",
            "__________________________________________________________________________________________________\n",
            "block8_4_ac (Activation)        (None, 5, 5, 2080)   0           block8_4[0][0]                   \n",
            "__________________________________________________________________________________________________\n",
            "conv2d_586 (Conv2D)             (None, 5, 5, 192)    399360      block8_4_ac[0][0]                \n",
            "__________________________________________________________________________________________________\n",
            "batch_normalization_588 (BatchN (None, 5, 5, 192)    576         conv2d_586[0][0]                 \n",
            "__________________________________________________________________________________________________\n",
            "activation_586 (Activation)     (None, 5, 5, 192)    0           batch_normalization_588[0][0]    \n",
            "__________________________________________________________________________________________________\n",
            "conv2d_587 (Conv2D)             (None, 5, 5, 224)    129024      activation_586[0][0]             \n",
            "__________________________________________________________________________________________________\n",
            "batch_normalization_589 (BatchN (None, 5, 5, 224)    672         conv2d_587[0][0]                 \n",
            "__________________________________________________________________________________________________\n",
            "activation_587 (Activation)     (None, 5, 5, 224)    0           batch_normalization_589[0][0]    \n",
            "__________________________________________________________________________________________________\n",
            "conv2d_585 (Conv2D)             (None, 5, 5, 192)    399360      block8_4_ac[0][0]                \n",
            "__________________________________________________________________________________________________\n",
            "conv2d_588 (Conv2D)             (None, 5, 5, 256)    172032      activation_587[0][0]             \n",
            "__________________________________________________________________________________________________\n",
            "batch_normalization_587 (BatchN (None, 5, 5, 192)    576         conv2d_585[0][0]                 \n",
            "__________________________________________________________________________________________________\n",
            "batch_normalization_590 (BatchN (None, 5, 5, 256)    768         conv2d_588[0][0]                 \n",
            "__________________________________________________________________________________________________\n",
            "activation_585 (Activation)     (None, 5, 5, 192)    0           batch_normalization_587[0][0]    \n",
            "__________________________________________________________________________________________________\n",
            "activation_588 (Activation)     (None, 5, 5, 256)    0           batch_normalization_590[0][0]    \n",
            "__________________________________________________________________________________________________\n",
            "block8_5_mixed (Concatenate)    (None, 5, 5, 448)    0           activation_585[0][0]             \n",
            "                                                                 activation_588[0][0]             \n",
            "__________________________________________________________________________________________________\n",
            "block8_5_conv (Conv2D)          (None, 5, 5, 2080)   933920      block8_5_mixed[0][0]             \n",
            "__________________________________________________________________________________________________\n",
            "block8_5 (Lambda)               (None, 5, 5, 2080)   0           block8_4_ac[0][0]                \n",
            "                                                                 block8_5_conv[0][0]              \n",
            "__________________________________________________________________________________________________\n",
            "block8_5_ac (Activation)        (None, 5, 5, 2080)   0           block8_5[0][0]                   \n",
            "__________________________________________________________________________________________________\n",
            "conv2d_590 (Conv2D)             (None, 5, 5, 192)    399360      block8_5_ac[0][0]                \n",
            "__________________________________________________________________________________________________\n",
            "batch_normalization_592 (BatchN (None, 5, 5, 192)    576         conv2d_590[0][0]                 \n",
            "__________________________________________________________________________________________________\n",
            "activation_590 (Activation)     (None, 5, 5, 192)    0           batch_normalization_592[0][0]    \n",
            "__________________________________________________________________________________________________\n",
            "conv2d_591 (Conv2D)             (None, 5, 5, 224)    129024      activation_590[0][0]             \n",
            "__________________________________________________________________________________________________\n",
            "batch_normalization_593 (BatchN (None, 5, 5, 224)    672         conv2d_591[0][0]                 \n",
            "__________________________________________________________________________________________________\n",
            "activation_591 (Activation)     (None, 5, 5, 224)    0           batch_normalization_593[0][0]    \n",
            "__________________________________________________________________________________________________\n",
            "conv2d_589 (Conv2D)             (None, 5, 5, 192)    399360      block8_5_ac[0][0]                \n",
            "__________________________________________________________________________________________________\n",
            "conv2d_592 (Conv2D)             (None, 5, 5, 256)    172032      activation_591[0][0]             \n",
            "__________________________________________________________________________________________________\n",
            "batch_normalization_591 (BatchN (None, 5, 5, 192)    576         conv2d_589[0][0]                 \n",
            "__________________________________________________________________________________________________\n",
            "batch_normalization_594 (BatchN (None, 5, 5, 256)    768         conv2d_592[0][0]                 \n",
            "__________________________________________________________________________________________________\n",
            "activation_589 (Activation)     (None, 5, 5, 192)    0           batch_normalization_591[0][0]    \n",
            "__________________________________________________________________________________________________\n",
            "activation_592 (Activation)     (None, 5, 5, 256)    0           batch_normalization_594[0][0]    \n",
            "__________________________________________________________________________________________________\n",
            "block8_6_mixed (Concatenate)    (None, 5, 5, 448)    0           activation_589[0][0]             \n",
            "                                                                 activation_592[0][0]             \n",
            "__________________________________________________________________________________________________\n",
            "block8_6_conv (Conv2D)          (None, 5, 5, 2080)   933920      block8_6_mixed[0][0]             \n",
            "__________________________________________________________________________________________________\n",
            "block8_6 (Lambda)               (None, 5, 5, 2080)   0           block8_5_ac[0][0]                \n",
            "                                                                 block8_6_conv[0][0]              \n",
            "__________________________________________________________________________________________________\n",
            "block8_6_ac (Activation)        (None, 5, 5, 2080)   0           block8_6[0][0]                   \n",
            "__________________________________________________________________________________________________\n",
            "conv2d_594 (Conv2D)             (None, 5, 5, 192)    399360      block8_6_ac[0][0]                \n",
            "__________________________________________________________________________________________________\n",
            "batch_normalization_596 (BatchN (None, 5, 5, 192)    576         conv2d_594[0][0]                 \n",
            "__________________________________________________________________________________________________\n",
            "activation_594 (Activation)     (None, 5, 5, 192)    0           batch_normalization_596[0][0]    \n",
            "__________________________________________________________________________________________________\n",
            "conv2d_595 (Conv2D)             (None, 5, 5, 224)    129024      activation_594[0][0]             \n",
            "__________________________________________________________________________________________________\n",
            "batch_normalization_597 (BatchN (None, 5, 5, 224)    672         conv2d_595[0][0]                 \n",
            "__________________________________________________________________________________________________\n",
            "activation_595 (Activation)     (None, 5, 5, 224)    0           batch_normalization_597[0][0]    \n",
            "__________________________________________________________________________________________________\n",
            "conv2d_593 (Conv2D)             (None, 5, 5, 192)    399360      block8_6_ac[0][0]                \n",
            "__________________________________________________________________________________________________\n",
            "conv2d_596 (Conv2D)             (None, 5, 5, 256)    172032      activation_595[0][0]             \n",
            "__________________________________________________________________________________________________\n",
            "batch_normalization_595 (BatchN (None, 5, 5, 192)    576         conv2d_593[0][0]                 \n",
            "__________________________________________________________________________________________________\n",
            "batch_normalization_598 (BatchN (None, 5, 5, 256)    768         conv2d_596[0][0]                 \n",
            "__________________________________________________________________________________________________\n",
            "activation_593 (Activation)     (None, 5, 5, 192)    0           batch_normalization_595[0][0]    \n",
            "__________________________________________________________________________________________________\n",
            "activation_596 (Activation)     (None, 5, 5, 256)    0           batch_normalization_598[0][0]    \n",
            "__________________________________________________________________________________________________\n",
            "block8_7_mixed (Concatenate)    (None, 5, 5, 448)    0           activation_593[0][0]             \n",
            "                                                                 activation_596[0][0]             \n",
            "__________________________________________________________________________________________________\n",
            "block8_7_conv (Conv2D)          (None, 5, 5, 2080)   933920      block8_7_mixed[0][0]             \n",
            "__________________________________________________________________________________________________\n",
            "block8_7 (Lambda)               (None, 5, 5, 2080)   0           block8_6_ac[0][0]                \n",
            "                                                                 block8_7_conv[0][0]              \n",
            "__________________________________________________________________________________________________\n",
            "block8_7_ac (Activation)        (None, 5, 5, 2080)   0           block8_7[0][0]                   \n",
            "__________________________________________________________________________________________________\n",
            "conv2d_598 (Conv2D)             (None, 5, 5, 192)    399360      block8_7_ac[0][0]                \n",
            "__________________________________________________________________________________________________\n",
            "batch_normalization_600 (BatchN (None, 5, 5, 192)    576         conv2d_598[0][0]                 \n",
            "__________________________________________________________________________________________________\n",
            "activation_598 (Activation)     (None, 5, 5, 192)    0           batch_normalization_600[0][0]    \n",
            "__________________________________________________________________________________________________\n",
            "conv2d_599 (Conv2D)             (None, 5, 5, 224)    129024      activation_598[0][0]             \n",
            "__________________________________________________________________________________________________\n",
            "batch_normalization_601 (BatchN (None, 5, 5, 224)    672         conv2d_599[0][0]                 \n",
            "__________________________________________________________________________________________________\n",
            "activation_599 (Activation)     (None, 5, 5, 224)    0           batch_normalization_601[0][0]    \n",
            "__________________________________________________________________________________________________\n",
            "conv2d_597 (Conv2D)             (None, 5, 5, 192)    399360      block8_7_ac[0][0]                \n",
            "__________________________________________________________________________________________________\n",
            "conv2d_600 (Conv2D)             (None, 5, 5, 256)    172032      activation_599[0][0]             \n",
            "__________________________________________________________________________________________________\n",
            "batch_normalization_599 (BatchN (None, 5, 5, 192)    576         conv2d_597[0][0]                 \n",
            "__________________________________________________________________________________________________\n",
            "batch_normalization_602 (BatchN (None, 5, 5, 256)    768         conv2d_600[0][0]                 \n",
            "__________________________________________________________________________________________________\n",
            "activation_597 (Activation)     (None, 5, 5, 192)    0           batch_normalization_599[0][0]    \n",
            "__________________________________________________________________________________________________\n",
            "activation_600 (Activation)     (None, 5, 5, 256)    0           batch_normalization_602[0][0]    \n",
            "__________________________________________________________________________________________________\n",
            "block8_8_mixed (Concatenate)    (None, 5, 5, 448)    0           activation_597[0][0]             \n",
            "                                                                 activation_600[0][0]             \n",
            "__________________________________________________________________________________________________\n",
            "block8_8_conv (Conv2D)          (None, 5, 5, 2080)   933920      block8_8_mixed[0][0]             \n",
            "__________________________________________________________________________________________________\n",
            "block8_8 (Lambda)               (None, 5, 5, 2080)   0           block8_7_ac[0][0]                \n",
            "                                                                 block8_8_conv[0][0]              \n",
            "__________________________________________________________________________________________________\n",
            "block8_8_ac (Activation)        (None, 5, 5, 2080)   0           block8_8[0][0]                   \n",
            "__________________________________________________________________________________________________\n",
            "conv2d_602 (Conv2D)             (None, 5, 5, 192)    399360      block8_8_ac[0][0]                \n",
            "__________________________________________________________________________________________________\n",
            "batch_normalization_604 (BatchN (None, 5, 5, 192)    576         conv2d_602[0][0]                 \n",
            "__________________________________________________________________________________________________\n",
            "activation_602 (Activation)     (None, 5, 5, 192)    0           batch_normalization_604[0][0]    \n",
            "__________________________________________________________________________________________________\n",
            "conv2d_603 (Conv2D)             (None, 5, 5, 224)    129024      activation_602[0][0]             \n",
            "__________________________________________________________________________________________________\n",
            "batch_normalization_605 (BatchN (None, 5, 5, 224)    672         conv2d_603[0][0]                 \n",
            "__________________________________________________________________________________________________\n",
            "activation_603 (Activation)     (None, 5, 5, 224)    0           batch_normalization_605[0][0]    \n",
            "__________________________________________________________________________________________________\n",
            "conv2d_601 (Conv2D)             (None, 5, 5, 192)    399360      block8_8_ac[0][0]                \n",
            "__________________________________________________________________________________________________\n",
            "conv2d_604 (Conv2D)             (None, 5, 5, 256)    172032      activation_603[0][0]             \n",
            "__________________________________________________________________________________________________\n",
            "batch_normalization_603 (BatchN (None, 5, 5, 192)    576         conv2d_601[0][0]                 \n",
            "__________________________________________________________________________________________________\n",
            "batch_normalization_606 (BatchN (None, 5, 5, 256)    768         conv2d_604[0][0]                 \n",
            "__________________________________________________________________________________________________\n",
            "activation_601 (Activation)     (None, 5, 5, 192)    0           batch_normalization_603[0][0]    \n",
            "__________________________________________________________________________________________________\n",
            "activation_604 (Activation)     (None, 5, 5, 256)    0           batch_normalization_606[0][0]    \n",
            "__________________________________________________________________________________________________\n",
            "block8_9_mixed (Concatenate)    (None, 5, 5, 448)    0           activation_601[0][0]             \n",
            "                                                                 activation_604[0][0]             \n",
            "__________________________________________________________________________________________________\n",
            "block8_9_conv (Conv2D)          (None, 5, 5, 2080)   933920      block8_9_mixed[0][0]             \n",
            "__________________________________________________________________________________________________\n",
            "block8_9 (Lambda)               (None, 5, 5, 2080)   0           block8_8_ac[0][0]                \n",
            "                                                                 block8_9_conv[0][0]              \n",
            "__________________________________________________________________________________________________\n",
            "block8_9_ac (Activation)        (None, 5, 5, 2080)   0           block8_9[0][0]                   \n",
            "__________________________________________________________________________________________________\n",
            "conv2d_606 (Conv2D)             (None, 5, 5, 192)    399360      block8_9_ac[0][0]                \n",
            "__________________________________________________________________________________________________\n",
            "batch_normalization_608 (BatchN (None, 5, 5, 192)    576         conv2d_606[0][0]                 \n",
            "__________________________________________________________________________________________________\n",
            "activation_606 (Activation)     (None, 5, 5, 192)    0           batch_normalization_608[0][0]    \n",
            "__________________________________________________________________________________________________\n",
            "conv2d_607 (Conv2D)             (None, 5, 5, 224)    129024      activation_606[0][0]             \n",
            "__________________________________________________________________________________________________\n",
            "batch_normalization_609 (BatchN (None, 5, 5, 224)    672         conv2d_607[0][0]                 \n",
            "__________________________________________________________________________________________________\n",
            "activation_607 (Activation)     (None, 5, 5, 224)    0           batch_normalization_609[0][0]    \n",
            "__________________________________________________________________________________________________\n",
            "conv2d_605 (Conv2D)             (None, 5, 5, 192)    399360      block8_9_ac[0][0]                \n",
            "__________________________________________________________________________________________________\n",
            "conv2d_608 (Conv2D)             (None, 5, 5, 256)    172032      activation_607[0][0]             \n",
            "__________________________________________________________________________________________________\n",
            "batch_normalization_607 (BatchN (None, 5, 5, 192)    576         conv2d_605[0][0]                 \n",
            "__________________________________________________________________________________________________\n",
            "batch_normalization_610 (BatchN (None, 5, 5, 256)    768         conv2d_608[0][0]                 \n",
            "__________________________________________________________________________________________________\n",
            "activation_605 (Activation)     (None, 5, 5, 192)    0           batch_normalization_607[0][0]    \n",
            "__________________________________________________________________________________________________\n",
            "activation_608 (Activation)     (None, 5, 5, 256)    0           batch_normalization_610[0][0]    \n",
            "__________________________________________________________________________________________________\n",
            "block8_10_mixed (Concatenate)   (None, 5, 5, 448)    0           activation_605[0][0]             \n",
            "                                                                 activation_608[0][0]             \n",
            "__________________________________________________________________________________________________\n",
            "block8_10_conv (Conv2D)         (None, 5, 5, 2080)   933920      block8_10_mixed[0][0]            \n",
            "__________________________________________________________________________________________________\n",
            "block8_10 (Lambda)              (None, 5, 5, 2080)   0           block8_9_ac[0][0]                \n",
            "                                                                 block8_10_conv[0][0]             \n",
            "__________________________________________________________________________________________________\n",
            "conv_7b (Conv2D)                (None, 5, 5, 1536)   3194880     block8_10[0][0]                  \n",
            "__________________________________________________________________________________________________\n",
            "conv_7b_bn (BatchNormalization) (None, 5, 5, 1536)   4608        conv_7b[0][0]                    \n",
            "__________________________________________________________________________________________________\n",
            "conv_7b_ac (Activation)         (None, 5, 5, 1536)   0           conv_7b_bn[0][0]                 \n",
            "__________________________________________________________________________________________________\n",
            "flatten_2 (Flatten)             (None, 38400)        0           conv_7b_ac[0][0]                 \n",
            "==================================================================================================\n",
            "Total params: 54,336,736\n",
            "Trainable params: 0\n",
            "Non-trainable params: 54,336,736\n",
            "__________________________________________________________________________________________________\n"
          ],
          "name": "stdout"
        }
      ]
    },
    {
      "cell_type": "code",
      "metadata": {
        "colab": {
          "base_uri": "https://localhost:8080/"
        },
        "id": "tiIfchmFFt2f",
        "outputId": "44f2b7d5-cc16-40fc-977f-4436b0679dac"
      },
      "source": [
        "from keras.layers import Conv2D, MaxPooling2D, Flatten, Dense, Dropout, InputLayer,BatchNormalization\n",
        "from keras.models import Sequential\n",
        "from keras import optimizers\n",
        "input_shape = (224,224)\n",
        "model = Sequential()\n",
        "model.add(inception)\n",
        "model.add(Dense(2048, activation = 'relu', input_dim = input_shape))\n",
        "model.add(BatchNormalization())\n",
        "model.add(Dropout(0.3))\n",
        "model.add(Dense(256, activation = 'relu',kernel_regularizer='l2'))\n",
        "model.add(Dropout(0.2))\n",
        "model.add(Dense(3, activation = 'softmax'))\n",
        "model.compile(loss = 'categorical_crossentropy',\n",
        "             optimizer = optimizers.Adam(lr = 2e-5),\n",
        "             metrics = ['accuracy'])\n",
        "model.summary()"
      ],
      "execution_count": null,
      "outputs": [
        {
          "output_type": "stream",
          "text": [
            "Model: \"sequential_3\"\n",
            "_________________________________________________________________\n",
            "Layer (type)                 Output Shape              Param #   \n",
            "=================================================================\n",
            "model_2 (Functional)         (None, 38400)             54336736  \n",
            "_________________________________________________________________\n",
            "dense_9 (Dense)              (None, 2048)              78645248  \n",
            "_________________________________________________________________\n",
            "batch_normalization_612 (Bat (None, 2048)              8192      \n",
            "_________________________________________________________________\n",
            "dropout_6 (Dropout)          (None, 2048)              0         \n",
            "_________________________________________________________________\n",
            "dense_10 (Dense)             (None, 256)               524544    \n",
            "_________________________________________________________________\n",
            "dropout_7 (Dropout)          (None, 256)               0         \n",
            "_________________________________________________________________\n",
            "dense_11 (Dense)             (None, 3)                 771       \n",
            "=================================================================\n",
            "Total params: 133,515,491\n",
            "Trainable params: 79,174,659\n",
            "Non-trainable params: 54,340,832\n",
            "_________________________________________________________________\n"
          ],
          "name": "stdout"
        }
      ]
    },
    {
      "cell_type": "code",
      "metadata": {
        "id": "8iovXTbWKrYT"
      },
      "source": [
        "\n",
        "from math import floor\n",
        "from tensorflow.keras.callbacks import EarlyStopping, ReduceLROnPlateau, ModelCheckpoint,TensorBoard,TerminateOnNaN, LearningRateScheduler\n",
        "INIT_LR = 1e-4\n",
        "decay_rate = 0.95\n",
        "decay_step = 1\n",
        "\n",
        "\n",
        "callbacks = [ModelCheckpoint(filepath='best_cnn_model1.h5', monitor='val_loss',mode='min',verbose=1,save_best_only=True,save_weights_only=True),\n",
        "             LearningRateScheduler(lambda epoch : INIT_LR * pow(decay_rate, floor(epoch / decay_step))),EarlyStopping(monitor='val_loss',patience=10)]"
      ],
      "execution_count": null,
      "outputs": []
    },
    {
      "cell_type": "code",
      "metadata": {
        "colab": {
          "base_uri": "https://localhost:8080/"
        },
        "id": "f5UuOFchLInp",
        "outputId": "f1c0321b-91f2-41b5-9ea9-31692819d6d8"
      },
      "source": [
        "train_generator=traindata_gen.flow_from_directory(\n",
        "    train_dir,\n",
        "    batch_size=16,\n",
        "    color_mode=\"rgb\",\n",
        "    class_mode='categorical',\n",
        "    target_size=(224,224),\n",
        "    shuffle=True,\n",
        "        seed=42\n",
        ")\n",
        "valid_generator=valid_datagen.flow_from_directory(\n",
        "    valid_dir,\n",
        "    batch_size=16,\n",
        "    color_mode=\"rgb\",\n",
        "    class_mode='categorical',\n",
        "    target_size=(224,224),\n",
        "    shuffle=True,\n",
        "        seed=42\n",
        ")\n",
        "test_generator=test_datagen.flow_from_directory(\n",
        "    test_dir,\n",
        "    batch_size=1,\n",
        "    color_mode=\"rgb\",\n",
        "    class_mode='categorical',\n",
        "    target_size=(224,224),\n",
        "    shuffle=False,\n",
        "    seed=42\n",
        ")"
      ],
      "execution_count": null,
      "outputs": [
        {
          "output_type": "stream",
          "text": [
            "Found 7770 images belonging to 3 classes.\n",
            "Found 732 images belonging to 3 classes.\n",
            "Found 915 images belonging to 3 classes.\n"
          ],
          "name": "stdout"
        }
      ]
    },
    {
      "cell_type": "code",
      "metadata": {
        "colab": {
          "base_uri": "https://localhost:8080/"
        },
        "id": "MJqQoi48cwJh",
        "outputId": "22169724-d455-4beb-fd8c-54e10a48e8cf"
      },
      "source": [
        "history = model.fit_generator(\n",
        "                generator=train_generator,\n",
        "                steps_per_epoch=train_generator.n//train_generator.batch_size,\n",
        "                validation_data=valid_generator,\n",
        "                validation_steps=valid_generator.n//valid_generator.batch_size,\n",
        "                epochs=100,\n",
        "                callbacks=callbacks\n",
        "  )"
      ],
      "execution_count": null,
      "outputs": [
        {
          "output_type": "stream",
          "text": [
            "/usr/local/lib/python3.7/dist-packages/tensorflow/python/keras/engine/training.py:1844: UserWarning: `Model.fit_generator` is deprecated and will be removed in a future version. Please use `Model.fit`, which supports generators.\n",
            "  warnings.warn('`Model.fit_generator` is deprecated and '\n"
          ],
          "name": "stderr"
        },
        {
          "output_type": "stream",
          "text": [
            "Epoch 1/100\n",
            "485/485 [==============================] - 2321s 5s/step - loss: 4.5649 - accuracy: 0.7932 - val_loss: 2.9055 - val_accuracy: 0.8833\n",
            "\n",
            "Epoch 00001: val_loss improved from inf to 2.90552, saving model to best_cnn_model1.h5\n",
            "Epoch 2/100\n",
            "485/485 [==============================] - 284s 585ms/step - loss: 2.5629 - accuracy: 0.8783 - val_loss: 1.9702 - val_accuracy: 0.8611\n",
            "\n",
            "Epoch 00002: val_loss improved from 2.90552 to 1.97015, saving model to best_cnn_model1.h5\n",
            "Epoch 3/100\n",
            "485/485 [==============================] - 280s 577ms/step - loss: 1.7401 - accuracy: 0.9037 - val_loss: 1.4657 - val_accuracy: 0.8847\n",
            "\n",
            "Epoch 00003: val_loss improved from 1.97015 to 1.46571, saving model to best_cnn_model1.h5\n",
            "Epoch 4/100\n",
            "485/485 [==============================] - 278s 574ms/step - loss: 1.2828 - accuracy: 0.9186 - val_loss: 1.2029 - val_accuracy: 0.8903\n",
            "\n",
            "Epoch 00004: val_loss improved from 1.46571 to 1.20289, saving model to best_cnn_model1.h5\n",
            "Epoch 5/100\n",
            "485/485 [==============================] - 278s 573ms/step - loss: 0.9877 - accuracy: 0.9203 - val_loss: 0.9123 - val_accuracy: 0.9125\n",
            "\n",
            "Epoch 00005: val_loss improved from 1.20289 to 0.91227, saving model to best_cnn_model1.h5\n",
            "Epoch 6/100\n",
            "485/485 [==============================] - 276s 568ms/step - loss: 0.7991 - accuracy: 0.9213 - val_loss: 0.7891 - val_accuracy: 0.8917\n",
            "\n",
            "Epoch 00006: val_loss improved from 0.91227 to 0.78911, saving model to best_cnn_model1.h5\n",
            "Epoch 7/100\n",
            "485/485 [==============================] - 276s 569ms/step - loss: 0.6451 - accuracy: 0.9311 - val_loss: 0.7332 - val_accuracy: 0.8681\n",
            "\n",
            "Epoch 00007: val_loss improved from 0.78911 to 0.73319, saving model to best_cnn_model1.h5\n",
            "Epoch 8/100\n",
            "485/485 [==============================] - 275s 568ms/step - loss: 0.5415 - accuracy: 0.9318 - val_loss: 0.6010 - val_accuracy: 0.8986\n",
            "\n",
            "Epoch 00008: val_loss improved from 0.73319 to 0.60097, saving model to best_cnn_model1.h5\n",
            "Epoch 9/100\n",
            "485/485 [==============================] - 275s 566ms/step - loss: 0.4734 - accuracy: 0.9304 - val_loss: 0.5030 - val_accuracy: 0.9083\n",
            "\n",
            "Epoch 00009: val_loss improved from 0.60097 to 0.50304, saving model to best_cnn_model1.h5\n",
            "Epoch 10/100\n",
            "485/485 [==============================] - 277s 571ms/step - loss: 0.4101 - accuracy: 0.9361 - val_loss: 0.4372 - val_accuracy: 0.9208\n",
            "\n",
            "Epoch 00010: val_loss improved from 0.50304 to 0.43723, saving model to best_cnn_model1.h5\n",
            "Epoch 11/100\n",
            "485/485 [==============================] - 276s 569ms/step - loss: 0.3727 - accuracy: 0.9336 - val_loss: 0.5337 - val_accuracy: 0.8708\n",
            "\n",
            "Epoch 00011: val_loss did not improve from 0.43723\n",
            "Epoch 12/100\n",
            "485/485 [==============================] - 274s 565ms/step - loss: 0.3445 - accuracy: 0.9358 - val_loss: 0.3722 - val_accuracy: 0.9278\n",
            "\n",
            "Epoch 00012: val_loss improved from 0.43723 to 0.37215, saving model to best_cnn_model1.h5\n",
            "Epoch 13/100\n",
            "485/485 [==============================] - 277s 572ms/step - loss: 0.3097 - accuracy: 0.9393 - val_loss: 0.3747 - val_accuracy: 0.9125\n",
            "\n",
            "Epoch 00013: val_loss did not improve from 0.37215\n",
            "Epoch 14/100\n",
            "485/485 [==============================] - 275s 567ms/step - loss: 0.2865 - accuracy: 0.9367 - val_loss: 0.3699 - val_accuracy: 0.9139\n",
            "\n",
            "Epoch 00014: val_loss improved from 0.37215 to 0.36991, saving model to best_cnn_model1.h5\n",
            "Epoch 15/100\n",
            "485/485 [==============================] - 278s 573ms/step - loss: 0.2539 - accuracy: 0.9473 - val_loss: 0.3121 - val_accuracy: 0.9319\n",
            "\n",
            "Epoch 00015: val_loss improved from 0.36991 to 0.31212, saving model to best_cnn_model1.h5\n",
            "Epoch 16/100\n",
            "485/485 [==============================] - 276s 569ms/step - loss: 0.2368 - accuracy: 0.9488 - val_loss: 0.3090 - val_accuracy: 0.9236\n",
            "\n",
            "Epoch 00016: val_loss improved from 0.31212 to 0.30898, saving model to best_cnn_model1.h5\n",
            "Epoch 17/100\n",
            "485/485 [==============================] - 276s 569ms/step - loss: 0.2264 - accuracy: 0.9473 - val_loss: 0.2800 - val_accuracy: 0.9361\n",
            "\n",
            "Epoch 00017: val_loss improved from 0.30898 to 0.27998, saving model to best_cnn_model1.h5\n",
            "Epoch 18/100\n",
            "485/485 [==============================] - 277s 570ms/step - loss: 0.2152 - accuracy: 0.9487 - val_loss: 0.2739 - val_accuracy: 0.9319\n",
            "\n",
            "Epoch 00018: val_loss improved from 0.27998 to 0.27392, saving model to best_cnn_model1.h5\n",
            "Epoch 19/100\n",
            "485/485 [==============================] - 277s 571ms/step - loss: 0.2075 - accuracy: 0.9466 - val_loss: 0.2689 - val_accuracy: 0.9278\n",
            "\n",
            "Epoch 00019: val_loss improved from 0.27392 to 0.26891, saving model to best_cnn_model1.h5\n",
            "Epoch 20/100\n",
            "485/485 [==============================] - 278s 573ms/step - loss: 0.2039 - accuracy: 0.9467 - val_loss: 0.3492 - val_accuracy: 0.8986\n",
            "\n",
            "Epoch 00020: val_loss did not improve from 0.26891\n",
            "Epoch 21/100\n",
            "485/485 [==============================] - 276s 570ms/step - loss: 0.1975 - accuracy: 0.9502 - val_loss: 0.2525 - val_accuracy: 0.9333\n",
            "\n",
            "Epoch 00021: val_loss improved from 0.26891 to 0.25250, saving model to best_cnn_model1.h5\n",
            "Epoch 22/100\n",
            "485/485 [==============================] - 278s 573ms/step - loss: 0.1813 - accuracy: 0.9511 - val_loss: 0.2750 - val_accuracy: 0.9181\n",
            "\n",
            "Epoch 00022: val_loss did not improve from 0.25250\n",
            "Epoch 23/100\n",
            "485/485 [==============================] - 276s 570ms/step - loss: 0.1845 - accuracy: 0.9495 - val_loss: 0.2925 - val_accuracy: 0.9042\n",
            "\n",
            "Epoch 00023: val_loss did not improve from 0.25250\n",
            "Epoch 24/100\n",
            "485/485 [==============================] - 280s 578ms/step - loss: 0.1654 - accuracy: 0.9601 - val_loss: 0.2827 - val_accuracy: 0.9167\n",
            "\n",
            "Epoch 00024: val_loss did not improve from 0.25250\n",
            "Epoch 25/100\n",
            "485/485 [==============================] - 281s 580ms/step - loss: 0.1730 - accuracy: 0.9540 - val_loss: 0.2729 - val_accuracy: 0.9125\n",
            "\n",
            "Epoch 00025: val_loss did not improve from 0.25250\n",
            "Epoch 26/100\n",
            "485/485 [==============================] - 280s 576ms/step - loss: 0.1709 - accuracy: 0.9514 - val_loss: 0.2391 - val_accuracy: 0.9292\n",
            "\n",
            "Epoch 00026: val_loss improved from 0.25250 to 0.23908, saving model to best_cnn_model1.h5\n",
            "Epoch 27/100\n",
            "485/485 [==============================] - 280s 577ms/step - loss: 0.1635 - accuracy: 0.9586 - val_loss: 0.2467 - val_accuracy: 0.9292\n",
            "\n",
            "Epoch 00027: val_loss did not improve from 0.23908\n",
            "Epoch 28/100\n",
            "485/485 [==============================] - 276s 568ms/step - loss: 0.1599 - accuracy: 0.9564 - val_loss: 0.2433 - val_accuracy: 0.9292\n",
            "\n",
            "Epoch 00028: val_loss did not improve from 0.23908\n",
            "Epoch 29/100\n",
            "485/485 [==============================] - 279s 576ms/step - loss: 0.1549 - accuracy: 0.9598 - val_loss: 0.2386 - val_accuracy: 0.9375\n",
            "\n",
            "Epoch 00029: val_loss improved from 0.23908 to 0.23863, saving model to best_cnn_model1.h5\n",
            "Epoch 30/100\n",
            "485/485 [==============================] - 282s 581ms/step - loss: 0.1479 - accuracy: 0.9561 - val_loss: 0.2247 - val_accuracy: 0.9319\n",
            "\n",
            "Epoch 00030: val_loss improved from 0.23863 to 0.22468, saving model to best_cnn_model1.h5\n",
            "Epoch 31/100\n",
            "485/485 [==============================] - 276s 569ms/step - loss: 0.1432 - accuracy: 0.9602 - val_loss: 0.2356 - val_accuracy: 0.9292\n",
            "\n",
            "Epoch 00031: val_loss did not improve from 0.22468\n",
            "Epoch 32/100\n",
            "485/485 [==============================] - 275s 567ms/step - loss: 0.1459 - accuracy: 0.9586 - val_loss: 0.2334 - val_accuracy: 0.9333\n",
            "\n",
            "Epoch 00032: val_loss did not improve from 0.22468\n",
            "Epoch 33/100\n",
            "485/485 [==============================] - 275s 567ms/step - loss: 0.1513 - accuracy: 0.9564 - val_loss: 0.2211 - val_accuracy: 0.9347\n",
            "\n",
            "Epoch 00033: val_loss improved from 0.22468 to 0.22106, saving model to best_cnn_model1.h5\n",
            "Epoch 34/100\n",
            "485/485 [==============================] - 277s 572ms/step - loss: 0.1408 - accuracy: 0.9599 - val_loss: 0.2194 - val_accuracy: 0.9319\n",
            "\n",
            "Epoch 00034: val_loss improved from 0.22106 to 0.21937, saving model to best_cnn_model1.h5\n",
            "Epoch 35/100\n",
            "485/485 [==============================] - 278s 573ms/step - loss: 0.1415 - accuracy: 0.9597 - val_loss: 0.2170 - val_accuracy: 0.9278\n",
            "\n",
            "Epoch 00035: val_loss improved from 0.21937 to 0.21699, saving model to best_cnn_model1.h5\n",
            "Epoch 36/100\n",
            "485/485 [==============================] - 285s 587ms/step - loss: 0.1314 - accuracy: 0.9621 - val_loss: 0.2205 - val_accuracy: 0.9361\n",
            "\n",
            "Epoch 00036: val_loss did not improve from 0.21699\n",
            "Epoch 37/100\n",
            "485/485 [==============================] - 284s 585ms/step - loss: 0.1262 - accuracy: 0.9648 - val_loss: 0.2305 - val_accuracy: 0.9319\n",
            "\n",
            "Epoch 00037: val_loss did not improve from 0.21699\n",
            "Epoch 38/100\n",
            "485/485 [==============================] - 285s 587ms/step - loss: 0.1296 - accuracy: 0.9660 - val_loss: 0.2241 - val_accuracy: 0.9375\n",
            "\n",
            "Epoch 00038: val_loss did not improve from 0.21699\n",
            "Epoch 39/100\n",
            "485/485 [==============================] - 281s 578ms/step - loss: 0.1323 - accuracy: 0.9615 - val_loss: 0.2120 - val_accuracy: 0.9375\n",
            "\n",
            "Epoch 00039: val_loss improved from 0.21699 to 0.21199, saving model to best_cnn_model1.h5\n",
            "Epoch 40/100\n",
            "485/485 [==============================] - 281s 579ms/step - loss: 0.1271 - accuracy: 0.9647 - val_loss: 0.2182 - val_accuracy: 0.9319\n",
            "\n",
            "Epoch 00040: val_loss did not improve from 0.21199\n",
            "Epoch 41/100\n",
            "485/485 [==============================] - 277s 571ms/step - loss: 0.1305 - accuracy: 0.9613 - val_loss: 0.1997 - val_accuracy: 0.9431\n",
            "\n",
            "Epoch 00041: val_loss improved from 0.21199 to 0.19968, saving model to best_cnn_model1.h5\n",
            "Epoch 42/100\n",
            "485/485 [==============================] - 277s 571ms/step - loss: 0.1212 - accuracy: 0.9689 - val_loss: 0.2089 - val_accuracy: 0.9458\n",
            "\n",
            "Epoch 00042: val_loss did not improve from 0.19968\n",
            "Epoch 43/100\n",
            "485/485 [==============================] - 276s 569ms/step - loss: 0.1231 - accuracy: 0.9650 - val_loss: 0.2220 - val_accuracy: 0.9278\n",
            "\n",
            "Epoch 00043: val_loss did not improve from 0.19968\n",
            "Epoch 44/100\n",
            "485/485 [==============================] - 276s 569ms/step - loss: 0.1273 - accuracy: 0.9618 - val_loss: 0.2223 - val_accuracy: 0.9347\n",
            "\n",
            "Epoch 00044: val_loss did not improve from 0.19968\n",
            "Epoch 45/100\n",
            "485/485 [==============================] - 277s 570ms/step - loss: 0.1154 - accuracy: 0.9672 - val_loss: 0.2550 - val_accuracy: 0.9236\n",
            "\n",
            "Epoch 00045: val_loss did not improve from 0.19968\n",
            "Epoch 46/100\n",
            "485/485 [==============================] - 280s 577ms/step - loss: 0.1162 - accuracy: 0.9641 - val_loss: 0.2270 - val_accuracy: 0.9403\n",
            "\n",
            "Epoch 00046: val_loss did not improve from 0.19968\n",
            "Epoch 47/100\n",
            "485/485 [==============================] - 275s 567ms/step - loss: 0.1157 - accuracy: 0.9673 - val_loss: 0.2143 - val_accuracy: 0.9431\n",
            "\n",
            "Epoch 00047: val_loss did not improve from 0.19968\n",
            "Epoch 48/100\n",
            "485/485 [==============================] - 276s 568ms/step - loss: 0.1129 - accuracy: 0.9666 - val_loss: 0.2186 - val_accuracy: 0.9403\n",
            "\n",
            "Epoch 00048: val_loss did not improve from 0.19968\n",
            "Epoch 49/100\n",
            "485/485 [==============================] - 276s 570ms/step - loss: 0.1150 - accuracy: 0.9685 - val_loss: 0.2249 - val_accuracy: 0.9375\n",
            "\n",
            "Epoch 00049: val_loss did not improve from 0.19968\n",
            "Epoch 50/100\n",
            "485/485 [==============================] - 276s 570ms/step - loss: 0.1085 - accuracy: 0.9716 - val_loss: 0.2221 - val_accuracy: 0.9389\n",
            "\n",
            "Epoch 00050: val_loss did not improve from 0.19968\n",
            "Epoch 51/100\n",
            "485/485 [==============================] - 276s 570ms/step - loss: 0.1195 - accuracy: 0.9641 - val_loss: 0.2157 - val_accuracy: 0.9389\n",
            "\n",
            "Epoch 00051: val_loss did not improve from 0.19968\n"
          ],
          "name": "stdout"
        }
      ]
    },
    {
      "cell_type": "code",
      "metadata": {
        "id": "8XNP0RgJWm9D",
        "colab": {
          "base_uri": "https://localhost:8080/"
        },
        "outputId": "08c11e52-45b4-4167-f412-0ffc3551e122"
      },
      "source": [
        "    test_generator.reset()\n",
        "    predY=model.predict_generator(\n",
        "            test_generator,\n",
        "            steps=1+test_generator.n//test_generator.batch_size,\n",
        "            verbose=1)"
      ],
      "execution_count": null,
      "outputs": [
        {
          "output_type": "stream",
          "text": [
            "/usr/local/lib/python3.7/dist-packages/tensorflow/python/keras/engine/training.py:1905: UserWarning: `Model.predict_generator` is deprecated and will be removed in a future version. Please use `Model.predict`, which supports generators.\n",
            "  warnings.warn('`Model.predict_generator` is deprecated and '\n"
          ],
          "name": "stderr"
        },
        {
          "output_type": "stream",
          "text": [
            "915/916 [============================>.] - ETA: 0sWARNING:tensorflow:Your input ran out of data; interrupting training. Make sure that your dataset or generator can generate at least `steps_per_epoch * epochs` batches (in this case, 916 batches). You may need to use the repeat() function when building your dataset.\n",
            "916/916 [==============================] - 250s 270ms/step\n"
          ],
          "name": "stdout"
        }
      ]
    },
    {
      "cell_type": "code",
      "metadata": {
        "id": "8I3nYFJE6mD_"
      },
      "source": [
        "from sklearn.metrics import classification_report, accuracy_score, confusion_matrix, roc_auc_score, roc_curve, auc\n",
        "import matplotlib.pyplot as plt\n",
        "import numpy as np\n",
        "class_to_label_map = {2 : 'pneumonia', 1 : 'covid', 0 : 'normal'}\n",
        "testY = test_generator.classes\n",
        "confusion__matrix=confusion_matrix(testY, np.argmax(predY, axis = -1))\n",
        "cr=(classification_report(testY, np.argmax(predY, axis = -1), target_names=class_to_label_map, output_dict=True))"
      ],
      "execution_count": null,
      "outputs": []
    },
    {
      "cell_type": "code",
      "metadata": {
        "id": "HbRoILQp6xsK",
        "colab": {
          "base_uri": "https://localhost:8080/"
        },
        "outputId": "438677fc-ef27-465a-806d-0aae7d3b2fd1"
      },
      "source": [
        "confusion__matrix"
      ],
      "execution_count": null,
      "outputs": [
        {
          "output_type": "execute_result",
          "data": {
            "text/plain": [
              "array([[298,   7,   0],\n",
              "       [ 10, 286,   9],\n",
              "       [  3,  34, 268]])"
            ]
          },
          "metadata": {
            "tags": []
          },
          "execution_count": 41
        }
      ]
    },
    {
      "cell_type": "code",
      "metadata": {
        "id": "Y4ZovLhi7HSa",
        "colab": {
          "base_uri": "https://localhost:8080/"
        },
        "outputId": "16986f22-3533-4649-dbe5-88ac4c70c4a1"
      },
      "source": [
        "cr"
      ],
      "execution_count": null,
      "outputs": [
        {
          "output_type": "execute_result",
          "data": {
            "text/plain": [
              "{0: {'f1-score': 0.9209621993127147,\n",
              "  'precision': 0.9675090252707581,\n",
              "  'recall': 0.8786885245901639,\n",
              "  'support': 305},\n",
              " 1: {'f1-score': 0.9050632911392404,\n",
              "  'precision': 0.8746177370030581,\n",
              "  'recall': 0.9377049180327869,\n",
              "  'support': 305},\n",
              " 2: {'f1-score': 0.9675324675324675,\n",
              "  'precision': 0.9581993569131833,\n",
              "  'recall': 0.9770491803278688,\n",
              "  'support': 305},\n",
              " 'accuracy': 0.9311475409836065,\n",
              " 'macro avg': {'f1-score': 0.9311859859948076,\n",
              "  'precision': 0.9334420397289999,\n",
              "  'recall': 0.9311475409836065,\n",
              "  'support': 915},\n",
              " 'weighted avg': {'f1-score': 0.9311859859948074,\n",
              "  'precision': 0.9334420397289999,\n",
              "  'recall': 0.9311475409836065,\n",
              "  'support': 915}}"
            ]
          },
          "metadata": {
            "tags": []
          },
          "execution_count": 42
        }
      ]
    },
    {
      "cell_type": "code",
      "metadata": {
        "id": "TDVH4IqAq5qA",
        "colab": {
          "base_uri": "https://localhost:8080/",
          "height": 458
        },
        "outputId": "bbf2a211-ccee-41a1-88fb-1501df6ef64d"
      },
      "source": [
        "def plot_confusion_matrix(cm,\n",
        "                          target_names,\n",
        "                          title='Confusion matrix',\n",
        "                          cmap=None,\n",
        "                          normalize=True):\n",
        "\n",
        "    import matplotlib.pyplot as plt\n",
        "    import numpy as np\n",
        "    import itertools\n",
        "\n",
        "    accuracy = np.trace(cm) / float(np.sum(cm))\n",
        "    misclass = 1 - accuracy\n",
        "\n",
        "    if cmap is None:\n",
        "        cmap = plt.get_cmap('Greens')\n",
        "\n",
        "    plt.figure(figsize=(8, 6))\n",
        "    plt.imshow(cm, interpolation='nearest', cmap=cmap)\n",
        "    plt.title(title, fontsize = 'larger')\n",
        "\n",
        "    if target_names is not None:\n",
        "        tick_marks = np.arange(len(target_names))\n",
        "        plt.xticks(tick_marks, target_names, rotation=45, fontsize = 'larger')\n",
        "        plt.yticks(tick_marks, target_names, fontsize = 'larger')\n",
        "\n",
        "    if normalize:\n",
        "        cm = cm.astype('float') / cm.sum(axis=1)[:, np.newaxis]\n",
        "\n",
        "\n",
        "    thresh = cm.max() / 1.5 if normalize else cm.max() / 2\n",
        "    for i, j in itertools.product(range(cm.shape[0]), range(cm.shape[1])):\n",
        "        if normalize:\n",
        "            plt.text(j, i, \"{:0.4f}\".format(cm[i, j]),\n",
        "                     horizontalalignment=\"center\",\n",
        "                     color=\"white\" if cm[i, j] > thresh else \"black\", fontsize = 'larger')\n",
        "        else:\n",
        "            plt.text(j, i, \"{:,}\".format(cm[i, j]),\n",
        "                     horizontalalignment=\"center\",\n",
        "                     color=\"white\" if cm[i, j] > thresh else \"black\", fontsize = 'larger')\n",
        "\n",
        "\n",
        "    plt.tight_layout()\n",
        "    plt.ylabel('True label', fontsize = 'larger')\n",
        "    plt.xlabel('Predicted label', fontsize = 'larger')\n",
        "#     plt.xlabel('Predicted label\\naccuracy={:0.4f}; misclass={:0.4f}'.format(accuracy, misclass))\n",
        "    plt.show()\n",
        "    \n",
        "plot_confusion_matrix(confusion__matrix, \n",
        "                      normalize = False,\n",
        "                      target_names = ['Normal', 'COVID-19', 'Pneumonia'],\n",
        "                      title        = \"Confusion Matrix\")\n"
      ],
      "execution_count": null,
      "outputs": [
        {
          "output_type": "display_data",
          "data": {
            "image/png": "[encoded data removed]",
            "text/plain": [
              "<Figure size 576x432 with 1 Axes>"
            ]
          },
          "metadata": {
            "tags": [],
            "needs_background": "light"
          }
        }
      ]
    },
    {
      "cell_type": "code",
      "metadata": {
        "id": "OS9kKqcoGJDL"
      },
      "source": [
        "FP = confusion__matrix.sum(axis=0) - np.diag(confusion__matrix)  \n",
        "FN = confusion__matrix.sum(axis=1) - np.diag(confusion__matrix)\n",
        "TP = np.diag(confusion__matrix)\n",
        "TN = confusion__matrix.sum() - (FP + FN + TP)\n",
        "\n",
        "FP = FP.astype(float)\n",
        "FN = FN.astype(float)\n",
        "TP = TP.astype(float)               \n",
        "TN = TN.astype(float)\n"
      ],
      "execution_count": null,
      "outputs": []
    },
    {
      "cell_type": "code",
      "metadata": {
        "id": "HrxzEXm6GNBK",
        "colab": {
          "base_uri": "https://localhost:8080/"
        },
        "outputId": "2cc44a1e-a0db-4d4a-ae91-b55347cb4941"
      },
      "source": [
        "FPR = FP/(FP+TN) \n",
        "print(\"False positive rate : \",FPR)"
      ],
      "execution_count": null,
      "outputs": [
        {
          "output_type": "stream",
          "text": [
            "False positive rate :  [0.02131148 0.06721311 0.0147541 ]\n"
          ],
          "name": "stdout"
        }
      ]
    },
    {
      "cell_type": "code",
      "metadata": {
        "id": "EHNhuKQDGRaL",
        "colab": {
          "base_uri": "https://localhost:8080/"
        },
        "outputId": "5d41b4bd-96fb-4828-a21c-9d7302aae500"
      },
      "source": [
        "FNR = FN/(FN+TP)\n",
        "print(\"False negative rate : \",FNR)"
      ],
      "execution_count": null,
      "outputs": [
        {
          "output_type": "stream",
          "text": [
            "False negative rate :  [0.02295082 0.06229508 0.12131148]\n"
          ],
          "name": "stdout"
        }
      ]
    },
    {
      "cell_type": "code",
      "metadata": {
        "id": "Fuamz6qcGT4Z",
        "colab": {
          "base_uri": "https://localhost:8080/"
        },
        "outputId": "0e822524-7794-46d6-f172-d05513a2ad7e"
      },
      "source": [
        "TNR = TN/(TN+FP)\n",
        "print(\"True negative rate(OR)Specificity : \",TNR)"
      ],
      "execution_count": null,
      "outputs": [
        {
          "output_type": "stream",
          "text": [
            "True negative rate(OR)Specificity :  [0.97868852 0.93278689 0.9852459 ]\n"
          ],
          "name": "stdout"
        }
      ]
    },
    {
      "cell_type": "code",
      "metadata": {
        "id": "mBZ4T217GWcy",
        "colab": {
          "base_uri": "https://localhost:8080/"
        },
        "outputId": "8229e4fb-4183-4867-d916-2caafc3fb190"
      },
      "source": [
        "NPV = TN/(TN+FN)\n",
        "print(\"Negative predictive value : \",NPV)"
      ],
      "execution_count": null,
      "outputs": [
        {
          "output_type": "stream",
          "text": [
            "Negative predictive value :  [0.9884106  0.96768707 0.94200627]\n"
          ],
          "name": "stdout"
        }
      ]
    },
    {
      "cell_type": "code",
      "metadata": {
        "id": "ynMHRxXxGil6",
        "colab": {
          "base_uri": "https://localhost:8080/"
        },
        "outputId": "0f3b7784-9a08-43ca-b0a2-3a7d2726d5a3"
      },
      "source": [
        "FDR = FP/(FP+TP)\n",
        "print(\"False predictive rate : \",FDR)"
      ],
      "execution_count": null,
      "outputs": [
        {
          "output_type": "stream",
          "text": [
            "False predictive rate :  [0.04180064 0.12538226 0.03249097]\n"
          ],
          "name": "stdout"
        }
      ]
    },
    {
      "cell_type": "code",
      "metadata": {
        "id": "mLvuFCOrGkiB",
        "colab": {
          "base_uri": "https://localhost:8080/"
        },
        "outputId": "5964a546-c037-46ba-b3a3-1886f411100e"
      },
      "source": [
        "TPR = TP/(TP+FN)\n",
        "print(\"True positive rate : \",TPR)"
      ],
      "execution_count": null,
      "outputs": [
        {
          "output_type": "stream",
          "text": [
            "True positive rate :  [0.97704918 0.93770492 0.87868852]\n"
          ],
          "name": "stdout"
        }
      ]
    },
    {
      "cell_type": "code",
      "metadata": {
        "id": "asCUGBj3Gn4q",
        "colab": {
          "base_uri": "https://localhost:8080/"
        },
        "outputId": "554ef8b1-e5cc-46eb-f1f8-005f170fc699"
      },
      "source": [
        "PPV = TP/(TP+FP)\n",
        "print(\"Positive predictive value : \",PPV)"
      ],
      "execution_count": null,
      "outputs": [
        {
          "output_type": "stream",
          "text": [
            "Positive predictive value :  [0.95819936 0.87461774 0.96750903]\n"
          ],
          "name": "stdout"
        }
      ]
    },
    {
      "cell_type": "code",
      "metadata": {
        "id": "8wGWQYs9GrUx",
        "colab": {
          "base_uri": "https://localhost:8080/"
        },
        "outputId": "eb365720-16cb-4d0d-d022-7b81da1c19a6"
      },
      "source": [
        "accuracy = (TP+TN)/(TP+TN+FP+FN)\n",
        "print(\"Accuracy of this model is : \",np.average(accuracy))"
      ],
      "execution_count": null,
      "outputs": [
        {
          "output_type": "stream",
          "text": [
            "Accuracy of this model is :  0.9540983606557377\n"
          ],
          "name": "stdout"
        }
      ]
    },
    {
      "cell_type": "code",
      "metadata": {
        "id": "JuQHRMtYGwj1",
        "colab": {
          "base_uri": "https://localhost:8080/"
        },
        "outputId": "f59e75a7-d189-4f9b-b161-94d6dc4cf531"
      },
      "source": [
        "from sklearn.metrics import fbeta_score\n",
        "print(\"F-beta score for beta =\",10,\"is\",fbeta_score(testY, np.argmax(predY, axis = -1),4,average='macro'))"
      ],
      "execution_count": null,
      "outputs": [
        {
          "output_type": "stream",
          "text": [
            "F-beta score for beta = 10 is 0.9310407583740524\n"
          ],
          "name": "stdout"
        }
      ]
    },
    {
      "cell_type": "code",
      "metadata": {
        "id": "__LyKeunGyh5",
        "colab": {
          "base_uri": "https://localhost:8080/"
        },
        "outputId": "95463d1f-c751-4603-febf-776a63727780"
      },
      "source": [
        "print(\"F-beta score for beta =\",1,\"is\",fbeta_score(testY, np.argmax(predY, axis = -1),1,average='macro'))"
      ],
      "execution_count": null,
      "outputs": [
        {
          "output_type": "stream",
          "text": [
            "F-beta score for beta = 1 is 0.9311859859948076\n"
          ],
          "name": "stdout"
        }
      ]
    },
    {
      "cell_type": "code",
      "metadata": {
        "id": "nr5DWEChG1jJ",
        "colab": {
          "base_uri": "https://localhost:8080/"
        },
        "outputId": "82e48199-4947-405e-a7d2-96e018933acf"
      },
      "source": [
        "print(\"F-beta score for beta =\",2,\"is\",fbeta_score(testY, np.argmax(predY, axis = -1),2,average='macro'))"
      ],
      "execution_count": null,
      "outputs": [
        {
          "output_type": "stream",
          "text": [
            "F-beta score for beta = 2 is 0.930904481987899\n"
          ],
          "name": "stdout"
        }
      ]
    },
    {
      "cell_type": "code",
      "metadata": {
        "id": "2RlkiZxvG3sD",
        "colab": {
          "base_uri": "https://localhost:8080/"
        },
        "outputId": "e82f166d-64e4-46a3-cee0-f0c9baacbbf2"
      },
      "source": [
        "from sklearn.metrics import cohen_kappa_score\n",
        "\n",
        "print(\"Cohen kappa score is : \",cohen_kappa_score(testY, np.argmax(predY, axis = -1)))"
      ],
      "execution_count": null,
      "outputs": [
        {
          "output_type": "stream",
          "text": [
            "Cohen kappa score is :  0.8967213114754098\n"
          ],
          "name": "stdout"
        }
      ]
    },
    {
      "cell_type": "code",
      "metadata": {
        "id": "iFBDoZFsG5wY",
        "colab": {
          "base_uri": "https://localhost:8080/"
        },
        "outputId": "69716764-44f1-4cb8-b21f-e236214488df"
      },
      "source": [
        "from sklearn.metrics import matthews_corrcoef\n",
        "print(\"Matthews correlation coefficient is : \",matthews_corrcoef(testY, np.argmax(predY, axis = -1)))"
      ],
      "execution_count": null,
      "outputs": [
        {
          "output_type": "stream",
          "text": [
            "Matthews correlation coefficient is :  0.8977706508088974\n"
          ],
          "name": "stdout"
        }
      ]
    },
    {
      "cell_type": "code",
      "metadata": {
        "id": "sHSyAUUIG78S",
        "colab": {
          "base_uri": "https://localhost:8080/",
          "height": 621
        },
        "outputId": "c8f40b3e-1126-4ae0-961e-6428271a9d60"
      },
      "source": [
        "import seaborn as sns\n",
        "def plot_multiclass_roc(y_test, y_score, n_classes, figsize=(17, 6)):\n",
        "\n",
        "    # structures\n",
        "    fpr = dict()\n",
        "    tpr = dict()\n",
        "    roc_auc = dict()\n",
        "\n",
        "    # calculate dummies once\n",
        "    y_test_dummies = pd.get_dummies(y_test, drop_first=False).values\n",
        "    for i in range(n_classes):\n",
        "        fpr[i], tpr[i], _ = roc_curve(y_test_dummies[:, i], y_score[:, i])\n",
        "        roc_auc[i] = auc(fpr[i], tpr[i])\n",
        "\n",
        "    # roc for each class\n",
        "    fig, ax = plt.subplots(figsize=figsize)\n",
        "    ax.plot([0, 1], [0, 1], 'k--')\n",
        "    ax.set_xlim([0.0, 1.0])\n",
        "    ax.set_ylim([0.0, 1.05])\n",
        "    ax.set_xlabel('False Positive Rate')\n",
        "    ax.set_ylabel('True Positive Rate')\n",
        "    ax.set_title('Receiver operating characteristic example')\n",
        "    for i in range(n_classes):\n",
        "        ax.plot(fpr[i], tpr[i], label='ROC curve (area = %0.2f) for %s' % (roc_auc[i], class_to_label_map[i]))\n",
        "    ax.legend(loc=\"best\")\n",
        "    ax.grid(alpha=.4)\n",
        "    sns.despine()\n",
        "    plt.show()\n",
        "\n",
        "plot_multiclass_roc(testY, predY, n_classes=3, figsize=(16, 10))"
      ],
      "execution_count": null,
      "outputs": [
        {
          "output_type": "display_data",
          "data": {
            "image/png": "[encoded data removed]",
            "text/plain": [
              "<Figure size 1152x720 with 1 Axes>"
            ]
          },
          "metadata": {
            "tags": [],
            "needs_background": "light"
          }
        }
      ]
    },
    {
      "cell_type": "code",
      "metadata": {
        "id": "mXXLZH-2G-S_",
        "colab": {
          "base_uri": "https://localhost:8080/"
        },
        "outputId": "e1bde44c-63fc-4bfc-d83a-2e22c309a4ac"
      },
      "source": [
        "from sklearn.metrics import roc_auc_score\n",
        "\n",
        "roc_auc = roc_auc_score(testY, predY,multi_class='ovr')\n",
        "print(\"Roc-auc score of the model is: \",roc_auc)"
      ],
      "execution_count": null,
      "outputs": [
        {
          "output_type": "stream",
          "text": [
            "Roc-auc score of the model is:  0.9843912926632625\n"
          ],
          "name": "stdout"
        }
      ]
    },
    {
      "cell_type": "code",
      "metadata": {
        "id": "z2RI8EbLHAUo",
        "colab": {
          "base_uri": "https://localhost:8080/",
          "height": 312
        },
        "outputId": "eac9417a-aa93-47fc-8aa6-bee39b127bb4"
      },
      "source": [
        "from scikitplot.metrics import plot_precision_recall\n",
        "\n",
        "fig, ax = plt.subplots()\n",
        "plot_precision_recall(testY, predY, ax=ax)"
      ],
      "execution_count": null,
      "outputs": [
        {
          "output_type": "execute_result",
          "data": {
            "text/plain": [
              "<matplotlib.axes._subplots.AxesSubplot at 0x7f51c56e9410>"
            ]
          },
          "metadata": {
            "tags": []
          },
          "execution_count": 60
        },
        {
          "output_type": "display_data",
          "data": {
            "image/png": "[encoded data removed]",
            "text/plain": [
              "<Figure size 432x288 with 1 Axes>"
            ]
          },
          "metadata": {
            "tags": [],
            "needs_background": "light"
          }
        }
      ]
    },
    {
      "cell_type": "code",
      "metadata": {
        "id": "vV5IQ0e1HCu5"
      },
      "source": [
        "from sklearn.preprocessing import label_binarize\n",
        "testY = test_generator.classes\n",
        "# Use label_binarize to be multi-label like settings\n",
        "testy = label_binarize(testY, classes=[0, 1, 2])"
      ],
      "execution_count": null,
      "outputs": []
    },
    {
      "cell_type": "code",
      "metadata": {
        "id": "tiFqlM8UHFge",
        "colab": {
          "base_uri": "https://localhost:8080/"
        },
        "outputId": "1b245020-7370-4380-c486-2389e5880142"
      },
      "source": [
        "from sklearn.metrics import average_precision_score\n",
        "average_precision = dict()\n",
        "predy = label_binarize(np.argmax(predY, axis = -1), classes=[0, 1, 2])\n",
        "for i in range(3):\n",
        "  average_precision[i] = average_precision_score(testy[:, i], predy[:, i])\n",
        "\n",
        "\n",
        "print(\"Average precision score is : \",average_precision)"
      ],
      "execution_count": null,
      "outputs": [
        {
          "output_type": "stream",
          "text": [
            "Average precision score is :  {0: 0.9438581694867605, 1: 0.8408983807088786, 2: 0.8905762364127754}\n"
          ],
          "name": "stdout"
        }
      ]
    },
    {
      "cell_type": "code",
      "metadata": {
        "id": "uVFp-pNtHHxS",
        "colab": {
          "base_uri": "https://localhost:8080/"
        },
        "outputId": "270a9684-637a-4109-ec11-6f1c7d5e2218"
      },
      "source": [
        "from sklearn.metrics import log_loss\n",
        "\n",
        "print(\"Log loss metric for this model is : \",log_loss(testy,predy))"
      ],
      "execution_count": null,
      "outputs": [
        {
          "output_type": "stream",
          "text": [
            "Log loss metric for this model is :  2.378079686206967\n"
          ],
          "name": "stdout"
        }
      ]
    },
    {
      "cell_type": "code",
      "metadata": {
        "id": "AWn7ceMDHJ2n",
        "colab": {
          "base_uri": "https://localhost:8080/"
        },
        "outputId": "2bf0f2a1-77c2-451e-e868-ef4c3552f673"
      },
      "source": [
        "from sklearn.metrics import brier_score_loss\n",
        "\n",
        "brier_score={}\n",
        "for i in range(3):\n",
        "  brier_score[i] = brier_score_loss(testy[:,i], predY[:,i])\n",
        "print(\"brier score for this model is : \",brier_score)"
      ],
      "execution_count": null,
      "outputs": [
        {
          "output_type": "stream",
          "text": [
            "brier score for this model is :  {0: 0.015852422818555822, 1: 0.04972024335197295, 2: 0.03987094623632159}\n"
          ],
          "name": "stdout"
        }
      ]
    },
    {
      "cell_type": "code",
      "metadata": {
        "id": "KU2_Dm9dHMHp",
        "colab": {
          "base_uri": "https://localhost:8080/",
          "height": 312
        },
        "outputId": "cd760cfa-9e75-4d77-90b4-b835d10e8693"
      },
      "source": [
        "from scikitplot.metrics import plot_cumulative_gain\n",
        "\n",
        "fig, ax = plt.subplots()\n",
        "\n",
        "plot_cumulative_gain(testy[:,0],predY,ax=ax,title=\"Cumulative gain curve for normal and non-normal\")"
      ],
      "execution_count": null,
      "outputs": [
        {
          "output_type": "execute_result",
          "data": {
            "text/plain": [
              "<matplotlib.axes._subplots.AxesSubplot at 0x7f51c7363990>"
            ]
          },
          "metadata": {
            "tags": []
          },
          "execution_count": 65
        },
        {
          "output_type": "display_data",
          "data": {
            "image/png": "[encoded data removed]",
            "text/plain": [
              "<Figure size 432x288 with 1 Axes>"
            ]
          },
          "metadata": {
            "tags": [],
            "needs_background": "light"
          }
        }
      ]
    },
    {
      "cell_type": "code",
      "metadata": {
        "id": "TweyQSwEHO4B",
        "colab": {
          "base_uri": "https://localhost:8080/",
          "height": 312
        },
        "outputId": "fa43c8da-7fcd-4abc-f085-fc6cc6276998"
      },
      "source": [
        "from scikitplot.metrics import plot_cumulative_gain\n",
        "\n",
        "fig, ax = plt.subplots()\n",
        "\n",
        "plot_cumulative_gain(testy[:,1],predY,ax=ax,title=\"Cumulative gain curve for covid and non-covid\")"
      ],
      "execution_count": null,
      "outputs": [
        {
          "output_type": "execute_result",
          "data": {
            "text/plain": [
              "<matplotlib.axes._subplots.AxesSubplot at 0x7f51d87c7fd0>"
            ]
          },
          "metadata": {
            "tags": []
          },
          "execution_count": 66
        },
        {
          "output_type": "display_data",
          "data": {
            "image/png": "[encoded data removed]",
            "text/plain": [
              "<Figure size 432x288 with 1 Axes>"
            ]
          },
          "metadata": {
            "tags": [],
            "needs_background": "light"
          }
        }
      ]
    },
    {
      "cell_type": "code",
      "metadata": {
        "id": "tyT8EIiMHTiT",
        "colab": {
          "base_uri": "https://localhost:8080/",
          "height": 312
        },
        "outputId": "0b165ba9-b506-45ab-93d6-91de2a3e63fb"
      },
      "source": [
        "from scikitplot.metrics import plot_cumulative_gain\n",
        "\n",
        "fig, ax = plt.subplots()\n",
        "\n",
        "plot_cumulative_gain(testy[:,2],predY,ax=ax,title=\"Cumulative gain curve for pneumonia and non-pneumonia\")"
      ],
      "execution_count": null,
      "outputs": [
        {
          "output_type": "execute_result",
          "data": {
            "text/plain": [
              "<matplotlib.axes._subplots.AxesSubplot at 0x7f51c562a910>"
            ]
          },
          "metadata": {
            "tags": []
          },
          "execution_count": 67
        },
        {
          "output_type": "display_data",
          "data": {
            "image/png": "[encoded data removed]",
            "text/plain": [
              "<Figure size 432x288 with 1 Axes>"
            ]
          },
          "metadata": {
            "tags": [],
            "needs_background": "light"
          }
        }
      ]
    },
    {
      "cell_type": "code",
      "metadata": {
        "id": "bOksmum0HXBV",
        "colab": {
          "base_uri": "https://localhost:8080/",
          "height": 312
        },
        "outputId": "83f0577f-6f50-4fa1-c60e-0092f42d2331"
      },
      "source": [
        "from scikitplot.metrics import plot_lift_curve\n",
        "fig, ax = plt.subplots()\n",
        "plot_lift_curve(testy[:,0],predY,ax=ax,title=\"lift curve for normal and non-normal\")"
      ],
      "execution_count": null,
      "outputs": [
        {
          "output_type": "execute_result",
          "data": {
            "text/plain": [
              "<matplotlib.axes._subplots.AxesSubplot at 0x7f51c5596b50>"
            ]
          },
          "metadata": {
            "tags": []
          },
          "execution_count": 68
        },
        {
          "output_type": "display_data",
          "data": {
            "image/png": "[encoded data removed]",
            "text/plain": [
              "<Figure size 432x288 with 1 Axes>"
            ]
          },
          "metadata": {
            "tags": [],
            "needs_background": "light"
          }
        }
      ]
    },
    {
      "cell_type": "code",
      "metadata": {
        "id": "P8xZQTYPHbS9",
        "colab": {
          "base_uri": "https://localhost:8080/",
          "height": 312
        },
        "outputId": "1d92c72c-8f17-44d1-e82c-1be169d4daee"
      },
      "source": [
        "fig, ax = plt.subplots()\n",
        "plot_lift_curve(testy[:,1],predY,ax=ax,title=\"lift curve for covid and non-covid\")"
      ],
      "execution_count": null,
      "outputs": [
        {
          "output_type": "execute_result",
          "data": {
            "text/plain": [
              "<matplotlib.axes._subplots.AxesSubplot at 0x7f51c55377d0>"
            ]
          },
          "metadata": {
            "tags": []
          },
          "execution_count": 69
        },
        {
          "output_type": "display_data",
          "data": {
            "image/png": "[encoded data removed]",
            "text/plain": [
              "<Figure size 432x288 with 1 Axes>"
            ]
          },
          "metadata": {
            "tags": [],
            "needs_background": "light"
          }
        }
      ]
    },
    {
      "cell_type": "code",
      "metadata": {
        "id": "vuUfOvEIHeDY",
        "colab": {
          "base_uri": "https://localhost:8080/",
          "height": 312
        },
        "outputId": "658d8ce7-23b8-43d8-d8d3-b4411773058e"
      },
      "source": [
        "fig, ax = plt.subplots()\n",
        "plot_lift_curve(testy[:,2],predY,ax=ax,title=\"lift curve for pneumonia and non-pneumonia\")"
      ],
      "execution_count": null,
      "outputs": [
        {
          "output_type": "execute_result",
          "data": {
            "text/plain": [
              "<matplotlib.axes._subplots.AxesSubplot at 0x7f51c54c7810>"
            ]
          },
          "metadata": {
            "tags": []
          },
          "execution_count": 70
        },
        {
          "output_type": "display_data",
          "data": {
            "image/png": "[encoded data removed]",
            "text/plain": [
              "<Figure size 432x288 with 1 Axes>"
            ]
          },
          "metadata": {
            "tags": [],
            "needs_background": "light"
          }
        }
      ]
    },
    {
      "cell_type": "code",
      "metadata": {
        "id": "aYfBhXCxHhRr",
        "colab": {
          "base_uri": "https://localhost:8080/",
          "height": 312
        },
        "outputId": "e60e5584-7294-4d1e-e474-30bc31ac42a5"
      },
      "source": [
        "from scikitplot.metrics import plot_ks_statistic\n",
        "\n",
        "fig, ax = plt.subplots()\n",
        "\n",
        "plot_ks_statistic(testy[:,0],predY,ax=ax,title=\"Kolmogorov-Smirnov curve for normal and non-normal\")"
      ],
      "execution_count": null,
      "outputs": [
        {
          "output_type": "execute_result",
          "data": {
            "text/plain": [
              "<matplotlib.axes._subplots.AxesSubplot at 0x7f51c53d8f10>"
            ]
          },
          "metadata": {
            "tags": []
          },
          "execution_count": 71
        },
        {
          "output_type": "display_data",
          "data": {
            "image/png": "[encoded data removed]",
            "text/plain": [
              "<Figure size 432x288 with 1 Axes>"
            ]
          },
          "metadata": {
            "tags": [],
            "needs_background": "light"
          }
        }
      ]
    },
    {
      "cell_type": "code",
      "metadata": {
        "id": "rtc5yq58H44A",
        "colab": {
          "base_uri": "https://localhost:8080/",
          "height": 312
        },
        "outputId": "c69b2258-9878-475c-a770-f83c51ebde51"
      },
      "source": [
        "fig, ax = plt.subplots()\n",
        "\n",
        "plot_ks_statistic(testy[:,1],predY,ax=ax,title=\"Kolmogorov-Smirnov curve for covid and non-covid\")"
      ],
      "execution_count": null,
      "outputs": [
        {
          "output_type": "execute_result",
          "data": {
            "text/plain": [
              "<matplotlib.axes._subplots.AxesSubplot at 0x7f51c53cddd0>"
            ]
          },
          "metadata": {
            "tags": []
          },
          "execution_count": 72
        },
        {
          "output_type": "display_data",
          "data": {
            "image/png": "[encoded data removed]",
            "text/plain": [
              "<Figure size 432x288 with 1 Axes>"
            ]
          },
          "metadata": {
            "tags": [],
            "needs_background": "light"
          }
        }
      ]
    },
    {
      "cell_type": "code",
      "metadata": {
        "id": "duy4Ya5pH568",
        "colab": {
          "base_uri": "https://localhost:8080/",
          "height": 312
        },
        "outputId": "2597688d-6049-4167-f202-5d9a99e2fd89"
      },
      "source": [
        "fig, ax = plt.subplots()\n",
        "\n",
        "plot_ks_statistic(testy[:,2],predY,ax=ax,title=\"Kolmogorov-Smirnov curve for pneumonia and non-pneumonia\")"
      ],
      "execution_count": null,
      "outputs": [
        {
          "output_type": "execute_result",
          "data": {
            "text/plain": [
              "<matplotlib.axes._subplots.AxesSubplot at 0x7f51c5348d10>"
            ]
          },
          "metadata": {
            "tags": []
          },
          "execution_count": 73
        },
        {
          "output_type": "display_data",
          "data": {
            "image/png": "[encoded data removed]",
            "text/plain": [
              "<Figure size 432x288 with 1 Axes>"
            ]
          },
          "metadata": {
            "tags": [],
            "needs_background": "light"
          }
        }
      ]
    },
    {
      "cell_type": "code",
      "metadata": {
        "id": "5Rd6TyjZSxIJ"
      },
      "source": [
        ""
      ],
      "execution_count": null,
      "outputs": []
    }
  ]
}